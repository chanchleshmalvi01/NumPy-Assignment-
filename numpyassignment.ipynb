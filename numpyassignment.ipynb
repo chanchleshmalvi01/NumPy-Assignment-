{
  "cells": [
    {
      "cell_type": "markdown",
      "metadata": {
        "id": "view-in-github",
        "colab_type": "text"
      },
      "source": [
        "<a href=\"https://colab.research.google.com/github/chanchleshmalvi01/NumPy-Assignment-/blob/main/numpyassignment.ipynb\" target=\"_parent\"><img src=\"https://colab.research.google.com/assets/colab-badge.svg\" alt=\"Open In Colab\"/></a>"
      ]
    },
    {
      "cell_type": "code",
      "execution_count": null,
      "metadata": {
        "colab": {
          "base_uri": "https://localhost:8080/"
        },
        "id": "DcfkR2kvKV-N",
        "outputId": "b0fd6724-de8a-40ca-f600-991cb1d2187c"
      },
      "outputs": [
        {
          "output_type": "stream",
          "name": "stdout",
          "text": [
            "Array: [0 1 2 3 4 5]\n",
            "Data type int64\n"
          ]
        }
      ],
      "source": [
        "# 1. Create a NumPy array 'arr' of integers from 0 to 5 and print its data type.\n",
        "\n",
        "\n",
        "import numpy as np\n",
        "\n",
        "arr = np.arange(6)\n",
        "print(\"Array:\", arr)\n",
        "print(\"Data type\" ,arr.dtype)"
      ]
    },
    {
      "cell_type": "code",
      "execution_count": null,
      "metadata": {
        "colab": {
          "base_uri": "https://localhost:8080/"
        },
        "id": "Z7ZL1s3xMZmu",
        "outputId": "41958e8c-d11b-43e5-86d0-ebefc0af5b5e"
      },
      "outputs": [
        {
          "output_type": "stream",
          "name": "stdout",
          "text": [
            "Is the data type float64? True\n"
          ]
        }
      ],
      "source": [
        "# 2. Given a NumPy array 'arr', check if its data type is float64.\n",
        "# arr = np.array([1.5, 2.6, 3.7])\n",
        "\n",
        "import numpy as np\n",
        "\n",
        "\n",
        "arr = np.array([1.5, 2.6, 3.7])\n",
        "\n",
        "is_float64 = arr.dtype == np.float64\n",
        "\n",
        "print(\"Is the data type float64?\", is_float64)\n"
      ]
    },
    {
      "cell_type": "code",
      "execution_count": null,
      "metadata": {
        "colab": {
          "base_uri": "https://localhost:8080/"
        },
        "id": "Swm5HUvUN2sY",
        "outputId": "a1a6e95f-32d5-4987-8b6e-e4d9aa1d1a3d"
      },
      "outputs": [
        {
          "output_type": "stream",
          "name": "stdout",
          "text": [
            "Array: [0.5+0.25j 1. +1.j   1.5+0.75j]\n",
            "Data type: complex128\n"
          ]
        }
      ],
      "source": [
        "# 3. Create a NumPy array 'arr' with a data type of complex128 containing three complex numbers.\n",
        "\n",
        "#code\n",
        "\n",
        "import numpy as np\n",
        "\n",
        "arr = np.array([0.5+0.25j, 1.0+1.0j, 1.5+0.75j], dtype=np.complex128)\n",
        "\n",
        "print(\"Array:\", arr)\n",
        "print(\"Data type:\", arr.dtype)\n"
      ]
    },
    {
      "cell_type": "code",
      "execution_count": null,
      "metadata": {
        "colab": {
          "base_uri": "https://localhost:8080/"
        },
        "id": "kCBKJ9vhPTHl",
        "outputId": "0a9ed853-100a-4269-f67b-181c461ff619"
      },
      "outputs": [
        {
          "output_type": "stream",
          "name": "stdout",
          "text": [
            "[1. 2. 3. 4. 5.]\n"
          ]
        }
      ],
      "source": [
        "# 4. Convert an existing NumPy array 'arr' of integers to float32 data type\n",
        "\n",
        "# code\n",
        "\n",
        "import numpy as np\n",
        "\n",
        "arr = np.array([1, 2, 3, 4, 5])\n",
        "\n",
        "arr_float32 = arr.astype(np.float32)\n",
        "\n",
        "print(arr_float32)"
      ]
    },
    {
      "cell_type": "code",
      "execution_count": 17,
      "metadata": {
        "colab": {
          "base_uri": "https://localhost:8080/"
        },
        "id": "2grQ0WJWU6fY",
        "outputId": "781b2fc3-1b1f-47a3-bb06-19d8fdd0e815"
      },
      "outputs": [
        {
          "output_type": "stream",
          "name": "stdout",
          "text": [
            "Original array data type: float64\n",
            "Converted array data type: float32\n"
          ]
        }
      ],
      "source": [
        "#  5. Given a NumPy array 'arr' with float64 data type, convert it to float32 to reduce decimal precision.\n",
        "\n",
        "import numpy as np\n",
        "\n",
        "arr = np.array([1.123456789, 2.987654321, 3.141592653], dtype='float64')\n",
        "\n",
        "print(\"Original array data type:\", arr.dtype)\n",
        "\n",
        "arr_float32 = arr.astype(np.float32)\n",
        "\n",
        "print(\"Converted array data type:\", arr_float32.dtype)\n",
        "\n"
      ]
    },
    {
      "cell_type": "code",
      "execution_count": null,
      "metadata": {
        "colab": {
          "base_uri": "https://localhost:8080/"
        },
        "id": "PH-uD3ntWjbs",
        "outputId": "bfb0cae5-57bb-4db1-9b28-c9d260df4b8a"
      },
      "outputs": [
        {
          "output_type": "stream",
          "name": "stdout",
          "text": [
            "Shape: (3,)\n",
            "Size: 3\n",
            "Data type: float64\n"
          ]
        }
      ],
      "source": [
        " #6. Write a function array_attributes that takes a NumPy array as input and returns its shape, size, and data type.\n",
        "#code\n",
        "\n",
        "import numpy as np\n",
        "\n",
        "def array_attributes(arr):\n",
        "    shape = arr.shape\n",
        "    size = arr.size\n",
        "    dtype = arr.dtype\n",
        "    return shape, size, dtype\n",
        "\n",
        "\n",
        "arr = np.array([1.5, 2.6, 3.7])\n",
        "attributes = array_attributes(arr)\n",
        "print(\"Shape:\", attributes[0])\n",
        "print(\"Size:\", attributes[1])\n",
        "print(\"Data type:\", attributes[2])\n"
      ]
    },
    {
      "cell_type": "code",
      "execution_count": null,
      "metadata": {
        "colab": {
          "base_uri": "https://localhost:8080/"
        },
        "id": "6dD5rRBdXC94",
        "outputId": "09cd1235-4844-46c8-8180-8baa5d17f66e"
      },
      "outputs": [
        {
          "output_type": "stream",
          "name": "stdout",
          "text": [
            "Dimensionality: 2\n"
          ]
        }
      ],
      "source": [
        "# 7. Create a function array_dimension that takes a NumPy array as input and returns its dimensionality\n",
        "\n",
        "import numpy as np\n",
        "\n",
        "def array_dimension(arr):\n",
        "\n",
        "    return arr.ndim\n",
        "\n",
        "\n",
        "arr = np.array([[3,4,5], [6,7,8]])\n",
        "dimensionality = array_dimension(arr)\n",
        "print(\"Dimensionality:\", dimensionality)\n"
      ]
    },
    {
      "cell_type": "code",
      "execution_count": 19,
      "metadata": {
        "colab": {
          "base_uri": "https://localhost:8080/"
        },
        "id": "prrb6Y25XwLA",
        "outputId": "abad01a9-35a3-4e31-e5cc-48090e35cd2b"
      },
      "outputs": [
        {
          "output_type": "stream",
          "name": "stdout",
          "text": [
            "Item size: 8 bytes\n",
            "Total size: 40 bytes\n"
          ]
        }
      ],
      "source": [
        "# 8. Design a function item_size_info that takes a NumPy array as input and returns the item size and the total size in bytes.\n",
        "\n",
        "# Code\n",
        "import numpy as np\n",
        "\n",
        "def item_size_info(arr):\n",
        "    if isinstance(arr, np.ndarray):\n",
        "        item_size = arr.itemsize\n",
        "        total_size = arr.nbytes\n",
        "        print(f\"Item size: {item_size} bytes\")\n",
        "        print(f\"Total size: {total_size} bytes\")\n",
        "    else:\n",
        "        print(\"Invalid input. Please provide a NumPy array.\")\n",
        "        arr = np.array([1.123456789, 2.987654321, 3.141592653, 4.567890123, 5.678901234])\n",
        "item_size_info(arr)\n",
        "\n",
        "\n"
      ]
    },
    {
      "cell_type": "code",
      "execution_count": 20,
      "metadata": {
        "colab": {
          "base_uri": "https://localhost:8080/"
        },
        "id": "7mEM4tFzYHtV",
        "outputId": "26f73bbb-0759-4c8f-9d9e-a37be90ab745"
      },
      "outputs": [
        {
          "output_type": "stream",
          "name": "stdout",
          "text": [
            "(24, 8)\n"
          ]
        }
      ],
      "source": [
        " #9. Create a function array_strides that takes a NumPy array as input and returns the strides of the array.\n",
        "\n",
        "# Code\n",
        "\n",
        "import numpy as np\n",
        "\n",
        "def array_strides(input_array):\n",
        "    if isinstance(input_array, np.ndarray):\n",
        "        return input_array.strides\n",
        "    else:\n",
        "        raise ValueError(\"Input is not a NumPy array\")\n",
        "\n",
        "# New input array\n",
        "my_array = np.array([[10, 20, 30], [40, 50, 60], [70, 80, 90]])\n",
        "\n",
        "print(array_strides(my_array))\n",
        "\n"
      ]
    },
    {
      "cell_type": "code",
      "execution_count": null,
      "metadata": {
        "colab": {
          "base_uri": "https://localhost:8080/"
        },
        "id": "sq_gYmiuY7xU",
        "outputId": "8b6f219c-5df3-4119-94cb-06b48f029020"
      },
      "outputs": [
        {
          "output_type": "stream",
          "name": "stdout",
          "text": [
            "My array:\n",
            "[[4 3 5]\n",
            " [4 5 3]]\n",
            "\n",
            "Strides of my array:\n",
            "(24, 8)\n"
          ]
        }
      ],
      "source": [
        "# 10. Design a function shape_stride_relationship that takes a NumPy array as input and returns the shape and strides of the array.\n",
        "\n",
        "\n",
        "# Code\n",
        "\n",
        "import numpy as np\n",
        "\n",
        "def array_strides(input_array):\n",
        "    if isinstance(input_array, np.ndarray):\n",
        "        return input_array.strides\n",
        "    else:\n",
        "        raise ValueError(\"Input is not a NumPy array\")\n",
        "\n",
        "my_array = np.array([[4,3,5], [4,5,3]])\n",
        "print(\"My array:\")\n",
        "print(my_array)\n",
        "print(\"\\nStrides of my array:\")\n",
        "print(array_strides(my_array))"
      ]
    },
    {
      "cell_type": "code",
      "execution_count": 21,
      "metadata": {
        "id": "D4j3aX--ZMAo",
        "colab": {
          "base_uri": "https://localhost:8080/"
        },
        "outputId": "45364dce-eb68-4449-b1ce-6a509df2c50a"
      },
      "outputs": [
        {
          "output_type": "stream",
          "name": "stdout",
          "text": [
            "7\n",
            "[0. 0. 0. 0. 0. 0. 0.]\n"
          ]
        }
      ],
      "source": [
        "#  11. Create a function `create_zeros_array` that takes an integer `n` as input and returns a NumPy array of zeros with `n` elements.\n",
        "\n",
        "\n",
        "\n",
        "# Code\n",
        "\n",
        "import numpy as np\n",
        "\n",
        "def create_zeros_array(n):\n",
        "\n",
        "    return np.zeros(n)\n",
        "\n",
        "print(create_zeros_array(int(input())))\n"
      ]
    },
    {
      "cell_type": "code",
      "execution_count": 22,
      "metadata": {
        "id": "oRdlcJ4lZWOO",
        "colab": {
          "base_uri": "https://localhost:8080/"
        },
        "outputId": "5187c831-166e-4ed1-dc11-9c5fd782cda6"
      },
      "outputs": [
        {
          "output_type": "stream",
          "name": "stdout",
          "text": [
            "[[1. 1. 1. 1. 1.]\n",
            " [1. 1. 1. 1. 1.]\n",
            " [1. 1. 1. 1. 1.]]\n"
          ]
        }
      ],
      "source": [
        "#  12. Write a function `create_ones_matrix` that takes integers `rows` and `cols` as inputs and generates a 2D NumPy array filled with ones of size `rows x cols`\n",
        "\n",
        "# Code\n",
        "import numpy as np\n",
        "\n",
        "def create_ones_matrix(rows, cols):\n",
        "    return np.ones((rows, cols))\n",
        "\n",
        "rows = 3\n",
        "cols = 5\n",
        "ones_matrix = create_ones_matrix(rows, cols)\n",
        "print(ones_matrix)"
      ]
    },
    {
      "cell_type": "code",
      "execution_count": 23,
      "metadata": {
        "id": "q8esyxf-Zf1_",
        "colab": {
          "base_uri": "https://localhost:8080/"
        },
        "outputId": "5ee62a97-cc95-44fd-f615-03efa7e0e304"
      },
      "outputs": [
        {
          "output_type": "stream",
          "name": "stdout",
          "text": [
            "[ 0  3  6  9 12 15 18]\n"
          ]
        }
      ],
      "source": [
        "#  13. Write a function `generate_range_array` that takes three integers start, stop, and step as arguments and creates a NumPy array with a range starting from `start`, ending at stop (exclusive), and with the specified step`.\n",
        "\n",
        "\n",
        "# code\n",
        "\n",
        "import numpy as np\n",
        "\n",
        "def generate_range_array(start, stop, step):\n",
        "    return np.arange(start, stop, step)\n",
        "\n",
        "start = 0\n",
        "stop = 20\n",
        "step = 3\n",
        "range_array = generate_range_array(start, stop, step)\n",
        "print(range_array)"
      ]
    },
    {
      "cell_type": "code",
      "execution_count": 24,
      "metadata": {
        "id": "UEaYB56zZq8C",
        "colab": {
          "base_uri": "https://localhost:8080/"
        },
        "outputId": "83332fc8-8799-4b82-a5a4-cd5e3e2d4858"
      },
      "outputs": [
        {
          "output_type": "stream",
          "name": "stdout",
          "text": [
            "[1.   1.25 1.5  1.75 2.  ]\n"
          ]
        }
      ],
      "source": [
        "#  14. Design a function `generate_linear_space` that takes two floats `start`, `stop`, and an integer `num` as  arguments and generates a NumPy array with num equally spaced values between `start` and `stop` (inclusive).\n",
        "\n",
        "\n",
        "# code\n",
        "\n",
        "import numpy as np\n",
        "\n",
        "def generate_linear_space(start, stop, num):\n",
        "    return np.linspace(start, stop, num)\n",
        "\n",
        "# Example usage:\n",
        "start = 1.0\n",
        "stop = 2.0\n",
        "num = 5\n",
        "linear_space = generate_linear_space(start, stop, num)\n",
        "print(linear_space)\n"
      ]
    },
    {
      "cell_type": "code",
      "execution_count": 25,
      "metadata": {
        "id": "lR7pdk34Z1vP",
        "colab": {
          "base_uri": "https://localhost:8080/"
        },
        "outputId": "3367fa82-353c-435c-e59a-002185174eec"
      },
      "outputs": [
        {
          "output_type": "stream",
          "name": "stdout",
          "text": [
            "[[1. 0. 0. 0.]\n",
            " [0. 1. 0. 0.]\n",
            " [0. 0. 1. 0.]\n",
            " [0. 0. 0. 1.]]\n"
          ]
        }
      ],
      "source": [
        "#  15. Create a function `create_identity_matrix` that takes an integer `n` as input and generates a square identity matrix of size `n x n` using `numpy.eye`.\n",
        "\n",
        "\n",
        "# code\n",
        "\n",
        "import numpy as np\n",
        "\n",
        "def create_identity_matrix(n):\n",
        "    return np.eye(n)\n",
        "\n",
        "n = 4\n",
        "identity_matrix = create_identity_matrix(n)\n",
        "print(identity_matrix)"
      ]
    },
    {
      "cell_type": "code",
      "execution_count": 27,
      "metadata": {
        "id": "4MMvjw-8Z6nh",
        "colab": {
          "base_uri": "https://localhost:8080/"
        },
        "outputId": "33a31b13-c7c4-440e-8724-cb0ce3f91db2"
      },
      "outputs": [
        {
          "output_type": "stream",
          "name": "stdout",
          "text": [
            "[3 5 7]\n"
          ]
        }
      ],
      "source": [
        "#  16. Write a function that takes a Python list and converts it into a NumPy array.\n",
        "\n",
        "\n",
        "# code\n",
        "\n",
        "import numpy as np\n",
        "\n",
        "def list_to_numpy_array(lst):\n",
        "    return np.array(lst)\n",
        "\n",
        "lst = [3 , 5, 7]\n",
        "numpy_array = list_to_numpy_array(lst)\n",
        "print(numpy_array)"
      ]
    },
    {
      "cell_type": "code",
      "execution_count": 26,
      "metadata": {
        "id": "5Wa16tbmaCtw",
        "colab": {
          "base_uri": "https://localhost:8080/"
        },
        "outputId": "d9bbff0d-ef70-4a2d-d86c-e4f3030265f0"
      },
      "outputs": [
        {
          "output_type": "stream",
          "name": "stdout",
          "text": [
            "Original array:\n",
            "[3 4 5 6 7]\n",
            "\n",
            "New array:\n",
            "[3 4 5 6 7]\n",
            "\n",
            "Original array after modifying new array:\n",
            "[10  4  5  6  7]\n"
          ]
        }
      ],
      "source": [
        "#  17. Create a NumPy array and demonstrate the use of `numpy.view` to create a new array object with the same data.\n",
        "\n",
        "# code\n",
        "\n",
        "import numpy as np\n",
        "\n",
        "arr = np.array([3,4,5,6,7])\n",
        "\n",
        "new_arr = arr.view()\n",
        "\n",
        "print(\"Original array:\")\n",
        "print(arr)\n",
        "print(\"\\nNew array:\")\n",
        "print(new_arr)\n",
        "\n",
        "new_arr[0] = 10\n",
        "print(\"\\nOriginal array after modifying new array:\")\n",
        "print(arr)"
      ]
    },
    {
      "cell_type": "code",
      "source": [
        "#18. Write a function that takes two NumPy arrays and concatenates them along a specified axis.\n",
        "\n",
        "#code\n",
        "\n",
        "import numpy as np\n",
        "\n",
        "def concatenate_arrays(arr1, arr2, axis=0):\n",
        "    try:\n",
        "        concatenated_array = np.concatenate((arr1, arr2), axis=axis)\n",
        "        return concatenated_array\n",
        "    except ValueError as e:\n",
        "        return f\"Error: {e}\"\n",
        "\n",
        "# Example usage:\n",
        "arr1 = np.array([[1, 2], [3, 4]])\n",
        "arr2 = np.array([[5, 6], [7, 8]])\n",
        "\n",
        "print(\"Array 1:\")\n",
        "print(arr1)\n",
        "print(\"\\nArray 2:\")\n",
        "print(arr2)\n",
        "\n",
        "# Concatenating along axis 0\n",
        "result_axis0 = concatenate_arrays(arr1, arr2, axis=0)\n",
        "print(\"\\nConcatenated along axis 0:\")\n",
        "print(result_axis0)\n",
        "\n",
        "# Concatenating along axis 1\n",
        "result_axis1 = concatenate_arrays(arr1, arr2, axis=1)\n",
        "print(\"\\nConcatenated along axis 1:\")\n",
        "print(result_axis1)\n"
      ],
      "metadata": {
        "colab": {
          "base_uri": "https://localhost:8080/"
        },
        "id": "DV5an2Eei6g_",
        "outputId": "3a2ab411-201f-4b06-af3a-601c8ea9fa0b"
      },
      "execution_count": 103,
      "outputs": [
        {
          "output_type": "stream",
          "name": "stdout",
          "text": [
            "Array 1:\n",
            "[[1 2]\n",
            " [3 4]]\n",
            "\n",
            "Array 2:\n",
            "[[5 6]\n",
            " [7 8]]\n",
            "\n",
            "Concatenated along axis 0:\n",
            "[[1 2]\n",
            " [3 4]\n",
            " [5 6]\n",
            " [7 8]]\n",
            "\n",
            "Concatenated along axis 1:\n",
            "[[1 2 5 6]\n",
            " [3 4 7 8]]\n"
          ]
        }
      ]
    },
    {
      "cell_type": "code",
      "execution_count": 28,
      "metadata": {
        "id": "kzFvFAoqaVFl",
        "colab": {
          "base_uri": "https://localhost:8080/"
        },
        "outputId": "769fed82-1677-4c09-b86c-485930169123"
      },
      "outputs": [
        {
          "output_type": "stream",
          "name": "stdout",
          "text": [
            "[[ 1.  2.  3.  7.  8.  0.]\n",
            " [ 4.  5.  6.  9. 10.  0.]]\n"
          ]
        }
      ],
      "source": [
        "# 19.  Create two NumPy arrays with different shapes and concatenate them horizontally using `numpy.concatenate`.\n",
        "\n",
        "\n",
        "\n",
        "# Code\n",
        "\n",
        "import numpy as np\n",
        "\n",
        "array1 = np.array([[1, 2, 3], [4, 5, 6]])\n",
        "array2 = np.array([[7, 8], [9, 10]])\n",
        "\n",
        "array2_extended = np.concatenate((array2, np.zeros((array2.shape[0], 1))), axis=1)\n",
        "\n",
        "result = np.concatenate((array1, array2_extended), axis=1)\n",
        "\n",
        "print(result)"
      ]
    },
    {
      "cell_type": "code",
      "execution_count": 29,
      "metadata": {
        "id": "6gUsoydHaqQu",
        "colab": {
          "base_uri": "https://localhost:8080/"
        },
        "outputId": "6d67f98a-e343-421d-f07d-56be45e4db13"
      },
      "outputs": [
        {
          "output_type": "stream",
          "name": "stdout",
          "text": [
            "[[10 20 30]\n",
            " [40 50 60]\n",
            " [70 80 90]]\n"
          ]
        }
      ],
      "source": [
        "# 20. Write a function that vertically stacks multiple NumPy arrays given as a list.\n",
        "\n",
        "# Code\n",
        "import numpy as np\n",
        "\n",
        "def stack_arrays_vertically(arrays_list):\n",
        "\n",
        "    stacked_array = np.vstack(arrays_list)\n",
        "    return stacked_array\n",
        "\n",
        "array1 = np.array([10, 20, 30])\n",
        "array2 = np.array([40, 50, 60])\n",
        "array3 = np.array([70, 80, 90])\n",
        "\n",
        "stacked_array = stack_arrays_vertically([array1, array2, array3])\n",
        "print(stacked_array)"
      ]
    },
    {
      "cell_type": "code",
      "execution_count": 30,
      "metadata": {
        "id": "E5JxuFOLa-eq",
        "colab": {
          "base_uri": "https://localhost:8080/"
        },
        "outputId": "e974a0c3-9939-4793-82f7-5d81ceb422b1"
      },
      "outputs": [
        {
          "output_type": "stream",
          "name": "stdout",
          "text": [
            "[ 5 10 15 20 25]\n"
          ]
        }
      ],
      "source": [
        "#  21. Write a Python function using NumPy to create an array of integers within a specified range (inclusive)  with a given step size.\n",
        "\n",
        "# code\n",
        "\n",
        "import numpy as np\n",
        "\n",
        "def create_integer_array(start, end, step=1):\n",
        "\n",
        "    if step == 0:\n",
        "        raise ValueError(\"Step size cannot be zero.\")\n",
        "\n",
        "    integer_array = np.arange(start, end + 1, step)\n",
        "    return integer_array\n",
        "integer_array = create_integer_array(5, 25, 5)\n",
        "print(integer_array)"
      ]
    },
    {
      "cell_type": "code",
      "execution_count": 31,
      "metadata": {
        "colab": {
          "base_uri": "https://localhost:8080/"
        },
        "id": "PVQ5H7JWlDzn",
        "outputId": "b55b4741-9fa7-4fa0-eb3e-bd09bc4dd373"
      },
      "outputs": [
        {
          "output_type": "stream",
          "name": "stdout",
          "text": [
            "[ 5.  7.  9. 11. 13. 15.]\n"
          ]
        }
      ],
      "source": [
        "# 22. Write a Python function using NumPy to generate an array of 10 equally spaced values between 0 and 1 (inclusive).\n",
        "\n",
        "# code\n",
        "\n",
        "import numpy as np\n",
        "\n",
        "def generate_equally_spaced_values(start, end, num_values):\n",
        "\n",
        "    if num_values <= 0:\n",
        "        raise ValueError(\"Number of values must be greater than zero.\")\n",
        "\n",
        "    equally_spaced_values = np.linspace(start, end, num_values)\n",
        "    return equally_spaced_values\n",
        "\n",
        "equally_spaced_values = generate_equally_spaced_values(5, 15, 6)\n",
        "print(equally_spaced_values)"
      ]
    },
    {
      "cell_type": "code",
      "execution_count": 33,
      "metadata": {
        "id": "n4w3laxQbPMK",
        "colab": {
          "base_uri": "https://localhost:8080/"
        },
        "outputId": "133ef170-572e-431c-86b0-98794c36e3da"
      },
      "outputs": [
        {
          "output_type": "stream",
          "name": "stdout",
          "text": [
            "[  100.           215.443469     464.15888336  1000.\n",
            "  2154.43469003  4641.58883361 10000.        ]\n"
          ]
        }
      ],
      "source": [
        "#  23. Write a Python function using NumPy to create an array of 5 logarithmically spaced values between 1 and 1000 (inclusive).\n",
        "\n",
        "\n",
        "# code\n",
        "import numpy as np\n",
        "\n",
        "def generate_log_array():\n",
        "    return np.logspace(2, 4, 7, endpoint=True)\n",
        "\n",
        "print(generate_log_array())\n"
      ]
    },
    {
      "cell_type": "code",
      "execution_count": 34,
      "metadata": {
        "id": "qepFigCGbs93",
        "colab": {
          "base_uri": "https://localhost:8080/"
        },
        "outputId": "74abda0d-651d-412f-fc84-e2c1b29d0de3"
      },
      "outputs": [
        {
          "output_type": "stream",
          "name": "stdout",
          "text": [
            "NumPy Array:\n",
            "[[115  67 136 120]\n",
            " [125 100  85 131]\n",
            " [ 76 111 135 118]\n",
            " [ 94  70 150  56]\n",
            " [ 85  97  88 145]\n",
            " [ 51  61 100 118]]\n",
            "\n",
            "Pandas DataFrame:\n",
            "   Column_1  Column_2  Column_3  Column_4\n",
            "0       115        67       136       120\n",
            "1       125       100        85       131\n",
            "2        76       111       135       118\n",
            "3        94        70       150        56\n",
            "4        85        97        88       145\n",
            "5        51        61       100       118\n"
          ]
        }
      ],
      "source": [
        "# 24. Create a Pandas DataFrame using a NumPy array that contains 5 rows and 3 columns, where the values are random integers between 1 and 100.\n",
        "\n",
        "# code\n",
        "import numpy as np\n",
        "import pandas as pd\n",
        "\n",
        "np_array = np.random.randint(50, 151, size=(6, 4))\n",
        "\n",
        "print(\"NumPy Array:\")\n",
        "print(np_array)\n",
        "\n",
        "df = pd.DataFrame(np_array, columns=['Column_1', 'Column_2', 'Column_3', 'Column_4'])\n",
        "\n",
        "print(\"\\nPandas DataFrame:\")\n",
        "print(df)"
      ]
    },
    {
      "cell_type": "code",
      "execution_count": 36,
      "metadata": {
        "id": "jgasjVEidcQ0",
        "colab": {
          "base_uri": "https://localhost:8080/"
        },
        "outputId": "a7b04924-1c39-4ca5-9e40-0007cfab7575"
      },
      "outputs": [
        {
          "output_type": "stream",
          "name": "stdout",
          "text": [
            "Original DataFrame:\n",
            "    A    B\n",
            "0  10  -60\n",
            "1 -20   70\n",
            "2  30  -80\n",
            "3 -40   90\n",
            "4  50 -100\n",
            "\n",
            "DataFrame after replacing the negative values in column 'A' with zeros:\n",
            "    A    B\n",
            "0  10  -60\n",
            "1   0   70\n",
            "2  30  -80\n",
            "3   0   90\n",
            "4  50 -100\n",
            "\n",
            "DataFrame after replacing the negative values in column 'B' with zeros:\n",
            "    A   B\n",
            "0  10   0\n",
            "1   0  70\n",
            "2  30   0\n",
            "3   0  90\n",
            "4  50   0\n"
          ]
        }
      ],
      "source": [
        "# 25. Write a function that takes a Pandas DataFrame and replaces all negative values in a specific columnwith zeros. Use NumPy operations within the Pandas DataFrame.\n",
        "\n",
        "# code\n",
        "\n",
        "import numpy as np\n",
        "import pandas as pd\n",
        "\n",
        "# New DataFrame with different values\n",
        "df = pd.DataFrame({'A': [10, -20, 30, -40, 50], 'B': [-60, 70, -80, 90, -100]})\n",
        "\n",
        "print(\"Original DataFrame:\")\n",
        "print(df)\n",
        "\n",
        "def replace_negatives_with_zeros(df, column_name):\n",
        "    df.loc[:, column_name] = np.where(df[column_name] < 0, 0, df[column_name])\n",
        "\n",
        "replace_negatives_with_zeros(df, 'A')\n",
        "\n",
        "print(\"\\nDataFrame after replacing the negative values in column 'A' with zeros:\")\n",
        "print(df)\n",
        "\n",
        "replace_negatives_with_zeros(df, 'B')\n",
        "\n",
        "print(\"\\nDataFrame after replacing the negative values in column 'B' with zeros:\")\n",
        "print(df)\n"
      ]
    },
    {
      "cell_type": "code",
      "execution_count": 40,
      "metadata": {
        "id": "Rmu-2tdfeHpj",
        "colab": {
          "base_uri": "https://localhost:8080/"
        },
        "outputId": "1be5f681-190d-47cc-bf68-8f36de99e806"
      },
      "outputs": [
        {
          "output_type": "stream",
          "name": "stdout",
          "text": [
            "The 3rd element from the array is: 30\n"
          ]
        }
      ],
      "source": [
        "# 26. Access the 3rd element from the given NumPy array.\n",
        "# arr = np.array([10, 20, 30, 40, 50])\n",
        "\n",
        "\n",
        "# code\n",
        "import numpy as np\n",
        "\n",
        "arr = np.array([10, 20, 30, 40, 50])\n",
        "\n",
        "third_element = arr[2]\n",
        "\n",
        "print(\"The 3rd element from the array is:\", third_element)\n"
      ]
    },
    {
      "cell_type": "code",
      "execution_count": 41,
      "metadata": {
        "id": "N5yAb2rAea_U",
        "colab": {
          "base_uri": "https://localhost:8080/"
        },
        "outputId": "a417499a-b49f-4bd2-da55-0e41d88ecc48"
      },
      "outputs": [
        {
          "output_type": "stream",
          "name": "stdout",
          "text": [
            "The element at index (1, 2) from the array is: 6\n"
          ]
        }
      ],
      "source": [
        "# 27. Retrieve the element at index (1, 2) from the 2D NumPy array.\n",
        "\n",
        "# arr_2d = np.array([[1, 2, 3],\n",
        "                   # [4, 5, 6],\n",
        "                   # [7, 8, 9]])\n",
        "\n",
        "# code\n",
        "import numpy as np\n",
        "\n",
        "arr_2d = np.array([[1, 2, 3],\n",
        "                   [4, 5, 6],\n",
        "                   [7, 8, 9]])\n",
        "\n",
        "element = arr_2d[1, 2]\n",
        "\n",
        "print(\"The element at index (1, 2) from the array is:\", element)"
      ]
    },
    {
      "cell_type": "code",
      "execution_count": 42,
      "metadata": {
        "id": "-B4IgHcZeilD",
        "colab": {
          "base_uri": "https://localhost:8080/"
        },
        "outputId": "94060de8-8997-4ee1-e393-2898eb805dfa"
      },
      "outputs": [
        {
          "output_type": "stream",
          "name": "stdout",
          "text": [
            "The elements greater than 5 from the array are: [ 8 10  7]\n"
          ]
        }
      ],
      "source": [
        "# 28. Using boolean indexing, extract elements greater than 5 from the given NumPy array.\n",
        "# arr = np.array([3, 8, 2, 10, 5, 7])\n",
        "\n",
        "# code\n",
        "import numpy as np\n",
        "\n",
        "arr = np.array([3, 8, 2, 10, 5, 7])\n",
        "greater_than_5 = arr[arr > 5]\n",
        "\n",
        "print(\"The elements greater than 5 from the array are:\", greater_than_5)"
      ]
    },
    {
      "cell_type": "code",
      "execution_count": 43,
      "metadata": {
        "id": "15tEr8sIeqMw",
        "colab": {
          "base_uri": "https://localhost:8080/"
        },
        "outputId": "c39b6948-29f1-4a03-d894-549f8a0bcd1b"
      },
      "outputs": [
        {
          "output_type": "stream",
          "name": "stdout",
          "text": [
            "The elements from index 2 to 5 (inclusive) from the array are: [3 4 5 6]\n"
          ]
        }
      ],
      "source": [
        "# 29. Perform basic slicing to extract elements from index 2 to 5 (inclusive) from the given NumPy array.\n",
        "# arr = np.array([1, 2, 3, 4, 5, 6, 7, 8, 9])\n",
        "\n",
        "# code\n",
        "import numpy as np\n",
        "\n",
        "arr = np.array([1, 2, 3, 4, 5, 6, 7, 8, 9])\n",
        "\n",
        "sliced_arr = arr[2:6]\n",
        "print(\"The elements from index 2 to 5 (inclusive) from the array are:\", sliced_arr)"
      ]
    },
    {
      "cell_type": "code",
      "execution_count": 44,
      "metadata": {
        "id": "FV7mlhskfM65",
        "colab": {
          "base_uri": "https://localhost:8080/"
        },
        "outputId": "499e76fb-f328-481f-8cb6-f377c06d9325"
      },
      "outputs": [
        {
          "output_type": "stream",
          "name": "stdout",
          "text": [
            "The extracted sub-array is:\n",
            " [[4 5]\n",
            " [7 8]]\n"
          ]
        }
      ],
      "source": [
        "#30. Slice the 2D NumPy array to extract the sub-array `[[2, 3], [5, 6]]` from the given array.\n",
        "# arr_2d = np.array([[1, 2, 3],\n",
        "                   # [4, 5, 6],\n",
        "                   # [7, 8, 9]])\n",
        "\n",
        "# code\n",
        "\n",
        "import numpy as np\n",
        "\n",
        "import numpy as np\n",
        "arr_2d = np.array([[1, 2, 3],\n",
        "                    [4, 5, 6],\n",
        "                    [7, 8, 9]])\n",
        "\n",
        "sub_arr = arr_2d[1:, :2]\n",
        "print(\"The extracted sub-array is:\\n\", sub_arr)\n"
      ]
    },
    {
      "cell_type": "code",
      "execution_count": 45,
      "metadata": {
        "id": "8U5viG2tfnM0",
        "colab": {
          "base_uri": "https://localhost:8080/"
        },
        "outputId": "4cdaa832-991e-4568-c559-465702ae9cfb"
      },
      "outputs": [
        {
          "output_type": "stream",
          "name": "stdout",
          "text": [
            "The extracted elements in the specified order are: [1 6 8]\n"
          ]
        }
      ],
      "source": [
        "# 31.Write a NumPy function to extract elements in specific order from a given 2D array based on indices provided in another array.\n",
        "\n",
        "# code\n",
        "import numpy as np\n",
        "\n",
        "def extract_elements(arr_2d, indices):\n",
        "    extracted_elements = arr_2d[tuple(indices.T.tolist())]\n",
        "    return extracted_elements\n",
        "\n",
        "arr_2d = np.array([[1, 2, 3],\n",
        "                    [4, 5, 6],\n",
        "                    [7, 8, 9]])\n",
        "\n",
        "indices = np.array([[0, 0],\n",
        "                      [1, 2],\n",
        "                      [2, 1]])\n",
        "\n",
        "extracted_elements = extract_elements(arr_2d, indices)\n",
        "\n",
        "print(\"The extracted elements in the specified order are:\", extracted_elements)"
      ]
    },
    {
      "cell_type": "code",
      "execution_count": 46,
      "metadata": {
        "id": "DK9swnsigNwg",
        "colab": {
          "base_uri": "https://localhost:8080/"
        },
        "outputId": "6a331ab5-6aa2-45b4-88d4-2e7523c25c1c"
      },
      "outputs": [
        {
          "output_type": "stream",
          "name": "stdout",
          "text": [
            "The elements greater than 5 are: [6 7 8 9]\n"
          ]
        }
      ],
      "source": [
        "# 32. Create a NumPy function that filters elements greater than a threshold from a given 1D array using boolean indexing.\n",
        "\n",
        "# code\n",
        "import numpy as np\n",
        "\n",
        "def filter_greater_than(arr, threshold):\n",
        "\n",
        "    filtered_arr = arr[arr > threshold]\n",
        "\n",
        "    return filtered_arr\n",
        "arr = np.array([1, 2, 3, 4, 5, 6, 7, 8, 9])\n",
        "\n",
        "filtered_arr = filter_greater_than(arr, 5)\n",
        "\n",
        "print(\"The elements greater than 5 are:\", filtered_arr)"
      ]
    },
    {
      "cell_type": "code",
      "execution_count": 47,
      "metadata": {
        "id": "p2RrSdnGgcDx",
        "colab": {
          "base_uri": "https://localhost:8080/"
        },
        "outputId": "138fadd7-e4c9-44b9-815e-77b5e4d8d59f"
      },
      "outputs": [
        {
          "output_type": "stream",
          "name": "stdout",
          "text": [
            "Original 3D array:\n",
            "[[[72 62 90  9]\n",
            "  [96  4 64 24]\n",
            "  [66 84 47 56]\n",
            "  [52  4 37 83]]\n",
            "\n",
            " [[12 87 36 64]\n",
            "  [81  6 71 55]\n",
            "  [13 75 53 96]\n",
            "  [93 71 76 51]]\n",
            "\n",
            " [[41 14 66 61]\n",
            "  [57 83 28 98]\n",
            "  [83 49 89  6]\n",
            "  [ 3 31 70 48]]\n",
            "\n",
            " [[95 14  3 80]\n",
            "  [61 56 69 82]\n",
            "  [51 73 87 79]\n",
            "  [36 68 53  9]]]\n",
            "\n",
            "Extracted elements:\n",
            "[ 4 28  9]\n"
          ]
        }
      ],
      "source": [
        "  # 33. Develop a NumPy function that extracts specific elements from a 3D array using indices provided in three separate arrays for each dimension.\n",
        "\n",
        "# code\n",
        "import numpy as np\n",
        "\n",
        "def extract_elements_3d(array, x_indices, y_indices, z_indices):\n",
        "    return array[x_indices, y_indices, z_indices]\n",
        "\n",
        "array_3d = np.random.randint(1, 100, size=(4, 4, 4))\n",
        "print(\"Original 3D array:\")\n",
        "print(array_3d)\n",
        "\n",
        "x_indices = np.array([0, 2, 3])\n",
        "y_indices = np.array([1, 1, 3])\n",
        "z_indices = np.array([1, 2, 3])\n",
        "\n",
        "extracted_elements = extract_elements_3d(array_3d, x_indices, y_indices, z_indices)\n",
        "print(\"\\nExtracted elements:\")\n",
        "print(extracted_elements)\n"
      ]
    },
    {
      "cell_type": "code",
      "execution_count": 48,
      "metadata": {
        "id": "vdJX52PnhkfQ",
        "colab": {
          "base_uri": "https://localhost:8080/"
        },
        "outputId": "5bbfb911-bd68-42e1-914d-ff851eb6d454"
      },
      "outputs": [
        {
          "output_type": "stream",
          "name": "stdout",
          "text": [
            "The elements greater than 3 and even are: [4 6 8]\n"
          ]
        }
      ],
      "source": [
        "# 34. Write a NumPy function that returns elements from an array where both two conditions are satisfied using boolean indexing.\n",
        "\n",
        "# code\n",
        "\n",
        "\n",
        "import numpy as np\n",
        "\n",
        "def filter_two_conditions(arr, condition1, condition2):\n",
        "    filtered_arr = arr[(condition1) & (condition2)]\n",
        "    return filtered_arr\n",
        "\n",
        "arr = np.array([1, 2, 3, 4, 5, 6, 7, 8, 9])\n",
        "condition1 = (arr > 3)\n",
        "condition2 = (arr % 2 == 0)\n",
        "filtered_arr = filter_two_conditions(arr, condition1, condition2)\n",
        "print(\"The elements greater than 3 and even are:\", filtered_arr)"
      ]
    },
    {
      "cell_type": "code",
      "execution_count": 49,
      "metadata": {
        "id": "aVlBPCG7hwcz",
        "colab": {
          "base_uri": "https://localhost:8080/"
        },
        "outputId": "8dacbd07-c65e-4c3e-d080-c79719fb8639"
      },
      "outputs": [
        {
          "output_type": "stream",
          "name": "stdout",
          "text": [
            "The extracted elements are: [30 40 80]\n"
          ]
        }
      ],
      "source": [
        "# 35. Create a NumPy function that extracts elements from a 2D array using row and column indices provided in separate arrays.\n",
        "\n",
        "# code\n",
        "import numpy as np\n",
        "\n",
        "def extract_elements_2d(arr, row_indices, col_indices):\n",
        "    extracted_elements = arr[row_indices, col_indices]\n",
        "    return extracted_elements\n",
        "\n",
        "arr = np.array([[10, 20, 30],\n",
        "                [40, 50, 60],\n",
        "                [70, 80, 90]])\n",
        "row_indices = np.array([0, 1, 2])\n",
        "col_indices = np.array([2, 0, 1])\n",
        "extracted_elements = extract_elements_2d(arr, row_indices, col_indices)\n",
        "print(\"The extracted elements are:\", extracted_elements)\n"
      ]
    },
    {
      "cell_type": "code",
      "execution_count": 50,
      "metadata": {
        "id": "HlXBRY6MiDOE",
        "colab": {
          "base_uri": "https://localhost:8080/"
        },
        "outputId": "6b6d33f6-7608-45df-8836-87232be66ac3"
      },
      "outputs": [
        {
          "output_type": "stream",
          "name": "stdout",
          "text": [
            "The array after adding 5 to each element is:\n",
            "[[15 25 35]\n",
            " [45 55 65]\n",
            " [75 85 95]]\n"
          ]
        }
      ],
      "source": [
        "# 36. Given an array arr of shape (3, 3), add a scalar value of 5 to each element using NumPy broadcasting.\n",
        "\n",
        "# code\n",
        "\n",
        "\n",
        "import numpy as np\n",
        "\n",
        "arr = np.array([[10, 20, 30],\n",
        "                [40, 50, 60],\n",
        "                [70, 80, 90]])\n",
        "result = arr + 5\n",
        "\n",
        "print(\"The array after adding 5 to each element is:\")\n",
        "print(result)"
      ]
    },
    {
      "cell_type": "code",
      "execution_count": 51,
      "metadata": {
        "id": "ySHqHyAvijH6",
        "colab": {
          "base_uri": "https://localhost:8080/"
        },
        "outputId": "6c4e195d-d708-44b7-aadb-eb4284150a06"
      },
      "outputs": [
        {
          "output_type": "stream",
          "name": "stdout",
          "text": [
            "Array arr1:\n",
            "[[2 3 4]]\n",
            "\n",
            "Array arr2:\n",
            "[[ 1  2  3  4]\n",
            " [ 5  6  7  8]\n",
            " [ 9 10 11 12]]\n",
            "\n",
            "Result of broadcasting multiplication:\n",
            "[[ 2  4  6  8]\n",
            " [15 18 21 24]\n",
            " [36 40 44 48]]\n"
          ]
        }
      ],
      "source": [
        "# 37. Consider two arrays arr1 of shape (1, 3) and arr2 of shape (3, 4). Multiply each row of arr2 by the corresponding element in arr1 using NumPy broadcasting.\n",
        "\n",
        "# code\n",
        "\n",
        "\n",
        "import numpy as np\n",
        "\n",
        "arr1 = np.array([[2, 3, 4]])\n",
        "arr2 = np.array([\n",
        "    [1, 2, 3, 4],\n",
        "    [5, 6, 7, 8],\n",
        "    [9, 10, 11, 12]\n",
        "])\n",
        "\n",
        "print(\"Array arr1:\")\n",
        "print(arr1)\n",
        "print(\"\\nArray arr2:\")\n",
        "print(arr2)\n",
        "\n",
        "result = arr2 * arr1.T\n",
        "\n",
        "print(\"\\nResult of broadcasting multiplication:\")\n",
        "print(result)"
      ]
    },
    {
      "cell_type": "code",
      "execution_count": 52,
      "metadata": {
        "id": "4Sn-sx-si0FV",
        "colab": {
          "base_uri": "https://localhost:8080/"
        },
        "outputId": "3b0bc27f-688b-4cc0-d719-685b3a4d48cc"
      },
      "outputs": [
        {
          "output_type": "stream",
          "name": "stdout",
          "text": [
            "Array arr1:\n",
            "[[2 3 4]]\n",
            "\n",
            "Array arr2:\n",
            "[[ 1  2  3  4]\n",
            " [ 5  6  7  8]\n",
            " [ 9 10 11 12]]\n",
            "\n",
            "Result of broadcasting multiplication:\n",
            "[[ 2  4  6  8]\n",
            " [15 18 21 24]\n",
            " [36 40 44 48]]\n"
          ]
        }
      ],
      "source": [
        "# 38. Given a 1D array arr1 of shape (1, 4) and a 2D array arr2 of shape (4, 3), add arr1 to each row of arr2 using NumPy broadcasting.\n",
        "\n",
        "# code\n",
        "\n",
        "\n",
        "import numpy as np\n",
        "\n",
        "arr1 = np.array([[2, 3, 4]])\n",
        "arr2 = np.array([\n",
        "    [1, 2, 3, 4],\n",
        "    [5, 6, 7, 8],\n",
        "    [9, 10, 11, 12]\n",
        "])\n",
        "\n",
        "print(\"Array arr1:\")\n",
        "print(arr1)\n",
        "print(\"\\nArray arr2:\")\n",
        "print(arr2)\n",
        "\n",
        "result = arr2 * arr1.T\n",
        "\n",
        "print(\"\\nResult of broadcasting multiplication:\")\n",
        "print(result)"
      ]
    },
    {
      "cell_type": "code",
      "execution_count": 53,
      "metadata": {
        "id": "mKJY2o1Si32J",
        "colab": {
          "base_uri": "https://localhost:8080/"
        },
        "outputId": "292f8493-1327-4b98-db75-bf0c8766d5c7"
      },
      "outputs": [
        {
          "output_type": "stream",
          "name": "stdout",
          "text": [
            "The resulting array after adding arr1 and arr2 is:\n",
            "[[5 6 7]\n",
            " [6 7 8]\n",
            " [7 8 9]]\n"
          ]
        }
      ],
      "source": [
        "# 39. Consider two arrays arr1 of shape (3, 1) and arr2 of shape (1, 3). Add these arrays using NumPy broadcasting.\n",
        "\n",
        "# code\n",
        "\n",
        "\n",
        "import numpy as np\n",
        "\n",
        "arr1 = np.array([[1],\n",
        "                [2],\n",
        "                [3]])\n",
        "arr2 = np.array([[4, 5, 6]])\n",
        "\n",
        "result = arr1 + arr2\n",
        "\n",
        "print(\"The resulting array after adding arr1 and arr2 is:\")\n",
        "print(result)"
      ]
    },
    {
      "cell_type": "code",
      "execution_count": 54,
      "metadata": {
        "id": "v8BDE-D2i90K",
        "colab": {
          "base_uri": "https://localhost:8080/"
        },
        "outputId": "ee408cee-28c1-4670-ce21-4efc07f618c4"
      },
      "outputs": [
        {
          "output_type": "stream",
          "name": "stdout",
          "text": [
            "Array arr1:\n",
            "[[1 2 3]\n",
            " [4 5 6]\n",
            " [7 8 9]]\n",
            "\n",
            "Array arr2:\n",
            "[[10 11]\n",
            " [12 13]\n",
            " [14 15]]\n",
            "\n",
            "Result of broadcasting multiplication:\n",
            "[[[ 10  11]\n",
            "  [ 20  22]\n",
            "  [ 30  33]]\n",
            "\n",
            " [[ 48  52]\n",
            "  [ 60  65]\n",
            "  [ 72  78]]\n",
            "\n",
            " [[ 98 105]\n",
            "  [112 120]\n",
            "  [126 135]]]\n"
          ]
        }
      ],
      "source": [
        "# 40. Given arrays arr1 of shape (2, 3) and arr2 of shape (2, 2), perform multiplication using NumPy broadcasting. Handle the shape incompatibility.\n",
        "\n",
        "# code\n",
        "\n",
        "import numpy as np\n",
        "\n",
        "arr1 = np.array([\n",
        "    [1, 2, 3],\n",
        "    [4, 5, 6],\n",
        "    [7, 8, 9]\n",
        "])\n",
        "\n",
        "arr2 = np.array([\n",
        "    [10, 11],\n",
        "    [12, 13],\n",
        "    [14, 15]\n",
        "])\n",
        "\n",
        "print(\"Array arr1:\")\n",
        "print(arr1)\n",
        "print(\"\\nArray arr2:\")\n",
        "print(arr2)\n",
        "\n",
        "arr2_broadcast = np.broadcast_to(arr2[:, np.newaxis, :], (3, 3, 2))\n",
        "\n",
        "\n",
        "result = arr1[:, :, np.newaxis] * arr2_broadcast\n",
        "\n",
        "print(\"\\nResult of broadcasting multiplication:\")\n",
        "print(result)\n"
      ]
    },
    {
      "cell_type": "code",
      "execution_count": 55,
      "metadata": {
        "id": "HjrhUnrQj6iz",
        "colab": {
          "base_uri": "https://localhost:8080/"
        },
        "outputId": "bdb0b03b-344d-4bae-d882-55d6a0896093"
      },
      "outputs": [
        {
          "output_type": "stream",
          "name": "stdout",
          "text": [
            "The column wise mean of the array is:\n",
            "[2.5 3.5 4.5]\n"
          ]
        }
      ],
      "source": [
        "# 41. Calculate column wise mean for the given array:\n",
        "# arr = np.array([[1, 2, 3], [4, 5, 6]])\n",
        "# code\n",
        "\n",
        "\n",
        "import numpy as np\n",
        "\n",
        "arr = np.array([[1, 2, 3],\n",
        "                [4, 5, 6]])\n",
        "\n",
        "# Calculate column wise mean\n",
        "col_mean = np.mean(arr, axis=0)\n",
        "\n",
        "print(\"The column wise mean of the array is:\")\n",
        "print(col_mean)"
      ]
    },
    {
      "cell_type": "code",
      "execution_count": 56,
      "metadata": {
        "id": "DIo28QHKkAEG",
        "colab": {
          "base_uri": "https://localhost:8080/"
        },
        "outputId": "e4aacc51-ba5c-4ac6-fa0d-daf30f4d16b9"
      },
      "outputs": [
        {
          "output_type": "stream",
          "name": "stdout",
          "text": [
            "The maximum value in each row of the array is:\n",
            "[3 6]\n"
          ]
        }
      ],
      "source": [
        "# 42. Find maximum value in each row of the given array:\n",
        "# arr = np.array([[1, 2, 3], [4, 5, 6]])\n",
        "# code\n",
        "\n",
        "import numpy as np\n",
        "\n",
        "arr = np.array([[1, 2, 3],\n",
        "                [4, 5, 6]])\n",
        "\n",
        "# Find maximum value in each row\n",
        "row_max = np.max(arr, axis=1)\n",
        "\n",
        "print(\"The maximum value in each row of the array is:\")\n",
        "print(row_max)"
      ]
    },
    {
      "cell_type": "code",
      "execution_count": 57,
      "metadata": {
        "id": "kSfn0tFckHpK",
        "colab": {
          "base_uri": "https://localhost:8080/"
        },
        "outputId": "3f35b92b-18f2-48c5-cf2a-39303e228beb"
      },
      "outputs": [
        {
          "output_type": "stream",
          "name": "stdout",
          "text": [
            "The indices of the maximum value in each column of the array are:\n",
            "[1 1 1]\n"
          ]
        }
      ],
      "source": [
        "# 43. For the given array, find indices of maximum value in each column.\n",
        "# arr = np.array([[1, 2, 3], [4, 5, 6]])\n",
        "# code\n",
        "\n",
        "\n",
        "import numpy as np\n",
        "\n",
        "arr = np.array([[1, 2, 3],\n",
        "                [4, 5, 6]])\n",
        "\n",
        "# Find indices of maximum value in each column\n",
        "col_max_indices = np.argmax(arr, axis=0)\n",
        "\n",
        "print(\"The indices of the maximum value in each column of the array are:\")\n",
        "print(col_max_indices)"
      ]
    },
    {
      "cell_type": "code",
      "execution_count": 58,
      "metadata": {
        "id": "nMD1RrHukh5e",
        "colab": {
          "base_uri": "https://localhost:8080/"
        },
        "outputId": "009b698c-1448-4256-b682-9b7180271445"
      },
      "outputs": [
        {
          "output_type": "stream",
          "name": "stdout",
          "text": [
            "Original array:\n",
            "[[1 2 3]\n",
            " [4 5 6]]\n",
            "\n",
            "Moving sum along rows with window size 2:\n",
            "[[ 3.  5.]\n",
            " [ 9. 11.]]\n"
          ]
        }
      ],
      "source": [
        "# 44. For the given array, apply custom function to calculate moving sum along rows.\n",
        "# arr = np.array([[1, 2, 3], [4, 5, 6]])\n",
        "# code\n",
        "\n",
        "import numpy as np\n",
        "\n",
        "def moving_sum(arr, window_size=2):\n",
        "    result = np.zeros((arr.shape[0], arr.shape[1] - window_size + 1))\n",
        "    for i in range(arr.shape[1] - window_size + 1):\n",
        "        result[:, i] = np.sum(arr[:, i:i+window_size], axis=1)\n",
        "    return result\n",
        "\n",
        "arr = np.array([[1, 2, 3], [4, 5, 6]])\n",
        "print(\"Original array:\")\n",
        "print(arr)\n",
        "\n",
        "result = moving_sum(arr, window_size=2)\n",
        "print(\"\\nMoving sum along rows with window size 2:\")\n",
        "print(result)"
      ]
    },
    {
      "cell_type": "code",
      "execution_count": 59,
      "metadata": {
        "id": "IR2OXu31k7W9",
        "colab": {
          "base_uri": "https://localhost:8080/"
        },
        "outputId": "df2e28cf-5729-4d5f-b819-21aaacf622cf"
      },
      "outputs": [
        {
          "output_type": "stream",
          "name": "stdout",
          "text": [
            "The result of checking if all elements in each column are even is:\n",
            "[False False False]\n"
          ]
        }
      ],
      "source": [
        "# 45. In the given array, check if all elements in each column are even.\n",
        "# arr = np.array([[2, 4, 6], [3, 5, 7]])\n",
        "# code\n",
        "\n",
        "\n",
        "import numpy as np\n",
        "\n",
        "arr = np.array([[2, 4, 6],\n",
        "                [3, 5, 7]])\n",
        "\n",
        "# Check if all elements in each column are even\n",
        "is_even = np.all(arr % 2 == 0, axis=0)\n",
        "\n",
        "print(\"The result of checking if all elements in each column are even is:\")\n",
        "print(is_even)"
      ]
    },
    {
      "cell_type": "code",
      "execution_count": 60,
      "metadata": {
        "id": "5tiSBYLelDP1",
        "colab": {
          "base_uri": "https://localhost:8080/"
        },
        "outputId": "bc321e58-6b17-4378-8322-1557a9ba402e"
      },
      "outputs": [
        {
          "output_type": "stream",
          "name": "stdout",
          "text": [
            "The reshaped matrix is:\n",
            "[[1 2 3]\n",
            " [4 5 6]]\n"
          ]
        }
      ],
      "source": [
        "# 46. Given a NumPy array arr, reshape it into a matrix of dimensions m rows and n columns. Return the reshaped matrix.\n",
        "# original_array = np.array([1, 2, 3, 4, 5, 6])\n",
        "\n",
        "# code\n",
        "\n",
        "\n",
        "import numpy as np\n",
        "\n",
        "def reshape_matrix(arr, m, n):\n",
        "\n",
        "    reshaped_matrix = np.reshape(arr, (m, n))\n",
        "\n",
        "    return reshaped_matrix\n",
        "\n",
        "original_array = np.array([1, 2, 3, 4, 5, 6])\n",
        "\n",
        "reshaped_matrix = reshape_matrix(original_array, 2, 3)\n",
        "\n",
        "print(\"The reshaped matrix is:\")\n",
        "print(reshaped_matrix)"
      ]
    },
    {
      "cell_type": "code",
      "execution_count": 61,
      "metadata": {
        "id": "Vj-uVkJolGoQ",
        "colab": {
          "base_uri": "https://localhost:8080/"
        },
        "outputId": "5ca7a2c8-d9d3-412e-c894-2f79939fe90d"
      },
      "outputs": [
        {
          "output_type": "stream",
          "name": "stdout",
          "text": [
            "The flattened array is:\n",
            "[1 2 3 4 5 6]\n"
          ]
        }
      ],
      "source": [
        "# 47. Create a function that takes a matrix as input and returns the flattened array.\n",
        "# input_matrix = np.array([[1, 2, 3], [4, 5, 6]])\n",
        "# code\n",
        "\n",
        "\n",
        "import numpy as np\n",
        "\n",
        "def flatten_matrix(matrix):\n",
        "\n",
        "    flattened_array = np.ravel(matrix)\n",
        "\n",
        "    return flattened_array\n",
        "\n",
        "input_matrix = np.array([[1, 2, 3],\n",
        "                          [4, 5, 6]])\n",
        "\n",
        "flattened_array = flatten_matrix(input_matrix)\n",
        "\n",
        "print(\"The flattened array is:\")\n",
        "print(flattened_array)"
      ]
    },
    {
      "cell_type": "code",
      "execution_count": 62,
      "metadata": {
        "id": "hL38aG2WlLdO",
        "colab": {
          "base_uri": "https://localhost:8080/"
        },
        "outputId": "5660a9f9-5979-4d8d-c9ae-f52e9472150c"
      },
      "outputs": [
        {
          "output_type": "stream",
          "name": "stdout",
          "text": [
            "The output array after concatenation along the default axis (axis=0) is:\n",
            "[[1 2]\n",
            " [3 4]\n",
            " [5 6]\n",
            " [7 8]]\n",
            "The output array after concatenation along the other axis (axis=1) is:\n",
            "[[1 2 5 6]\n",
            " [3 4 7 8]]\n"
          ]
        }
      ],
      "source": [
        "# 48. Write a function that concatenates two given arrays along a specified axis.\n",
        "# array1 = np.array([[1, 2], [3, 4]])\n",
        "# array2 = np.array([[5, 6], [7, 8]])\n",
        "# code\n",
        "\n",
        "\n",
        "import numpy as np\n",
        "\n",
        "def concatenate_arrays(array1, array2, axis=0):\n",
        "\n",
        "    output_array = np.concatenate((array1, array2), axis=axis)\n",
        "\n",
        "    return output_array\n",
        "\n",
        "array1 = np.array([[1, 2],\n",
        "                      [3, 4]])\n",
        "\n",
        "array2 = np.array([[5, 6],\n",
        "                      [7, 8]])\n",
        "output_array = concatenate_arrays(array1, array2)\n",
        "\n",
        "print(\"The output array after concatenation along the default axis (axis=0) is:\")\n",
        "print(output_array)\n",
        "\n",
        "output_array = concatenate_arrays(array1, array2, axis=1)\n",
        "\n",
        "print(\"The output array after concatenation along the other axis (axis=1) is:\")\n",
        "print(output_array)"
      ]
    },
    {
      "cell_type": "code",
      "execution_count": 63,
      "metadata": {
        "id": "CBhqVpgrlRHP",
        "colab": {
          "base_uri": "https://localhost:8080/"
        },
        "outputId": "f46ad91a-4e8f-43a7-930d-89c37e137dbc"
      },
      "outputs": [
        {
          "output_type": "stream",
          "name": "stdout",
          "text": [
            "Original array:\n",
            "[[1 2 3]\n",
            " [4 5 6]\n",
            " [7 8 9]]\n",
            "\n",
            "Split array along axis 0:\n",
            "Sub-array 0:\n",
            "[[1 2 3]]\n",
            "Sub-array 1:\n",
            "[[4 5 6]]\n",
            "Sub-array 2:\n",
            "[[7 8 9]]\n",
            "\n",
            "Split array along axis 1:\n",
            "Sub-array 0:\n",
            "[[1]\n",
            " [4]\n",
            " [7]]\n",
            "Sub-array 1:\n",
            "[[2]\n",
            " [5]\n",
            " [8]]\n",
            "Sub-array 2:\n",
            "[[3]\n",
            " [6]\n",
            " [9]]\n"
          ]
        }
      ],
      "source": [
        "# 49. Create a function that splits an array into multiple sub-arrays along a specified axis.\n",
        "# original_array = np.array([[1, 2, 3], [4, 5, 6], [7, 8, 9]])\n",
        "# code\n",
        "\n",
        "import numpy as np\n",
        "\n",
        "def split_array(arr, num_splits, axis=0):\n",
        "\n",
        "    return np.array_split(arr, num_splits, axis=axis)\n",
        "\n",
        "original_array = np.array([[1, 2, 3], [4, 5, 6], [7, 8, 9]])\n",
        "print(\"Original array:\")\n",
        "print(original_array)\n",
        "\n",
        "sub_arrays_axis_0 = split_array(original_array, 3, axis=0)\n",
        "print(\"\\nSplit array along axis 0:\")\n",
        "for i, sub_array in enumerate(sub_arrays_axis_0):\n",
        "    print(f\"Sub-array {i}:\\n{sub_array}\")\n",
        "\n",
        "sub_arrays_axis_1 = split_array(original_array, 3, axis=1)\n",
        "print(\"\\nSplit array along axis 1:\")\n",
        "for i, sub_array in enumerate(sub_arrays_axis_1):\n",
        "    print(f\"Sub-array {i}:\\n{sub_array}\")"
      ]
    },
    {
      "cell_type": "code",
      "execution_count": 64,
      "metadata": {
        "id": "Ma2gqfIFlXZc",
        "colab": {
          "base_uri": "https://localhost:8080/"
        },
        "outputId": "38c8b927-0492-467a-c015-75995c445794"
      },
      "outputs": [
        {
          "output_type": "stream",
          "name": "stdout",
          "text": [
            "Original array:\n",
            "[1 2 3 4 5]\n",
            "\n",
            "Modified array after insertion and deletion:\n",
            "[ 1 10  4 11  5]\n"
          ]
        }
      ],
      "source": [
        "# 50. Write a function that inserts and then deletes elements from a given array at specified indices.\n",
        "# original_array = np.array([1, 2, 3, 4, 5])\n",
        "# indices_to_insert = [2, 4]\n",
        "# values_to_insert = [10, 11]\n",
        "# indices_to_delete = [1, 3]\n",
        "\n",
        "# code\n",
        "\n",
        "import numpy as np\n",
        "\n",
        "def insert_and_delete_elements(arr, indices_to_insert, values_to_insert, indices_to_delete):\n",
        "\n",
        "    modified_array = np.insert(arr, indices_to_insert, values_to_insert)\n",
        "\n",
        "    modified_array = np.delete(modified_array, indices_to_delete)\n",
        "\n",
        "    return modified_array\n",
        "\n",
        "original_array = np.array([1, 2, 3, 4, 5])\n",
        "indices_to_insert = [2, 4]\n",
        "values_to_insert = [10, 11]\n",
        "indices_to_delete = [1, 3]\n",
        "\n",
        "print(\"Original array:\")\n",
        "print(original_array)\n",
        "\n",
        "result = insert_and_delete_elements(original_array, indices_to_insert, values_to_insert, indices_to_delete)\n",
        "print(\"\\nModified array after insertion and deletion:\")\n",
        "print(result)"
      ]
    },
    {
      "cell_type": "code",
      "execution_count": 65,
      "metadata": {
        "id": "qfvaeaE_lkht",
        "colab": {
          "base_uri": "https://localhost:8080/"
        },
        "outputId": "02898053-a45b-4e5c-ffb4-fa90aba9728e"
      },
      "outputs": [
        {
          "output_type": "stream",
          "name": "stdout",
          "text": [
            "Array arr1:\n",
            "[84 67 26 54 66 46 58 10 70 68]\n",
            "\n",
            "Array arr2:\n",
            "[ 1  2  3  4  5  6  7  8  9 10]\n",
            "\n",
            "Result of element-wise addition:\n",
            "[85 69 29 58 71 52 65 18 79 78]\n"
          ]
        }
      ],
      "source": [
        "# 51. Create a NumPy array arr1 with random integers and another array arr2 with integers from 1 to 10. Perform element-wise addition between arr1 and arr2.\n",
        "\n",
        "# code\n",
        "\n",
        "import numpy as np\n",
        "\n",
        "arr1 = np.random.randint(1, 100, size=10)\n",
        "print(\"Array arr1:\")\n",
        "print(arr1)\n",
        "\n",
        "arr2 = np.arange(1, 11)\n",
        "print(\"\\nArray arr2:\")\n",
        "print(arr2)\n",
        "\n",
        "result = arr1 + arr2\n",
        "print(\"\\nResult of element-wise addition:\")\n",
        "print(result)"
      ]
    },
    {
      "cell_type": "code",
      "execution_count": 68,
      "metadata": {
        "id": "5KTOYBnYl3gn",
        "colab": {
          "base_uri": "https://localhost:8080/"
        },
        "outputId": "9f31ba7f-3ab5-4511-977a-d01b76d789c8"
      },
      "outputs": [
        {
          "output_type": "stream",
          "name": "stdout",
          "text": [
            "Array arr1:  [10  9  8  7  6  5  4  3  2  1]\n",
            "Array arr2:  [ 1  2  3  4  5  6  7  8  9 10]\n",
            "Result array:  [ 9  7  5  3  1 -1 -3 -5 -7 -9]\n"
          ]
        }
      ],
      "source": [
        "# 52. Generate a NumPy array arr1 with sequential integers from 10 to 1 and another array arr2 with integers from 1 to 10. Subtract arr2 from arr1 element-wise.\n",
        "\n",
        "# code\n",
        "\n",
        "import numpy as np\n",
        "\n",
        "arr1 = np.arange(10, 0, -1)\n",
        "arr2 = np.arange(1, 11)\n",
        "result = arr1 - arr2\n",
        "\n",
        "print(\"Array arr1: \", arr1)\n",
        "print(\"Array arr2: \", arr2)\n",
        "\n",
        "print(\"Result array: \", result)\n"
      ]
    },
    {
      "cell_type": "code",
      "execution_count": 69,
      "metadata": {
        "id": "y9IyqicxmUNR",
        "colab": {
          "base_uri": "https://localhost:8080/"
        },
        "outputId": "ac687b9a-992b-4526-9160-12debcf461fe"
      },
      "outputs": [
        {
          "output_type": "stream",
          "name": "stdout",
          "text": [
            "Array arr1:  [6 1 2 4 9]\n",
            "Array arr2:  [1 2 3 4 5]\n",
            "Result array:  [[ 6  1  2  4  9]\n",
            " [12  2  4  8 18]\n",
            " [18  3  6 12 27]\n",
            " [24  4  8 16 36]\n",
            " [30  5 10 20 45]]\n"
          ]
        }
      ],
      "source": [
        "# 53. Create a NumPy array arr1 with random integers and another array arr2 with integers from 1 to 5. Perform element-wise multiplication between arr1 and arr2.\n",
        "\n",
        "# code\n",
        "\n",
        "\n",
        "import numpy as np\n",
        "\n",
        "arr1 = np.random.randint(1, 10, size=(5,))\n",
        "arr2 = np.arange(1, 6)\n",
        "result = arr1 * arr2[:, np.newaxis]\n",
        "\n",
        "print(\"Array arr1: \", arr1)\n",
        "print(\"Array arr2: \", arr2)\n",
        "print(\"Result array: \", result)"
      ]
    },
    {
      "cell_type": "code",
      "execution_count": 70,
      "metadata": {
        "id": "AoJcg0_hnFmY",
        "colab": {
          "base_uri": "https://localhost:8080/"
        },
        "outputId": "18df2555-2167-475a-b7fa-7eaca14358ea"
      },
      "outputs": [
        {
          "output_type": "stream",
          "name": "stdout",
          "text": [
            "Array arr1:  [ 2  4  6  8 10 12]\n",
            "Array arr2:  [1 2 3 4 5]\n",
            "Result array:  [[ 2.          4.          6.          8.         10.         12.        ]\n",
            " [ 1.          2.          3.          4.          5.          6.        ]\n",
            " [ 0.66666667  1.33333333  2.          2.66666667  3.33333333  4.        ]\n",
            " [ 0.5         1.          1.5         2.          2.5         3.        ]\n",
            " [ 0.4         0.8         1.2         1.6         2.          2.4       ]]\n"
          ]
        }
      ],
      "source": [
        "# 54. Generate a NumPy array arr1 with even integers from 2 to 10 and another array arr2 with integers from 1 to 5. Perform element-wise division of arr1 by arr2.\n",
        "\n",
        "# code\n",
        "\n",
        "\n",
        "import numpy as np\n",
        "\n",
        "arr1 = np.arange(2, 13, 2)\n",
        "arr2 = np.arange(1, 6)\n",
        "\n",
        "result = arr1 / arr2[:, np.newaxis]\n",
        "\n",
        "print(\"Array arr1: \", arr1)\n",
        "print(\"Array arr2: \", arr2)\n",
        "print(\"Result array: \", result)"
      ]
    },
    {
      "cell_type": "code",
      "execution_count": 71,
      "metadata": {
        "id": "uE8s3PHqnjgd",
        "colab": {
          "base_uri": "https://localhost:8080/"
        },
        "outputId": "2736c07e-0ceb-4398-b752-720d543380d8"
      },
      "outputs": [
        {
          "output_type": "stream",
          "name": "stdout",
          "text": [
            "Array arr1:  [2 3 4 5 6]\n",
            "Array arr2:  [6 5 4 3 2]\n",
            "Result array:  [ 64 243 256 125  36]\n"
          ]
        }
      ],
      "source": [
        "# 55. Create a NumPy array arr1 with integers from 1 to 5 and another array arr2 with the same numbers reversed. Calculate the exponentiation of arr1 raised to the power of arr2 element-wise.\n",
        "\n",
        "# code\n",
        "\n",
        "\n",
        "import numpy as np\n",
        "\n",
        "arr1 = np.array([2, 3, 4, 5, 6])\n",
        "arr2 = np.array([6, 5, 4, 3, 2])\n",
        "\n",
        "result = np.power(arr1, arr2)\n",
        "\n",
        "print(\"Array arr1: \", arr1)\n",
        "print(\"Array arr2: \", arr2)\n",
        "print(\"Result array: \", result)"
      ]
    },
    {
      "cell_type": "code",
      "execution_count": 72,
      "metadata": {
        "id": "2_W6QyeBoT9p",
        "colab": {
          "base_uri": "https://localhost:8080/"
        },
        "outputId": "ff66ac8e-1463-43c8-97f2-e2ff8fd89d82"
      },
      "outputs": [
        {
          "output_type": "stream",
          "name": "stdout",
          "text": [
            "Array:  ['hello' 'world' 'hello' 'numpy' 'hello']\n",
            "Substring:  hello\n",
            "Number of occurrences:  3\n"
          ]
        }
      ],
      "source": [
        "# 56. Write a function that counts the occurrences of a specific substring within a NumPy array of strings.\n",
        "# arr = np.array(['hello', 'world', 'hello', 'numpy', 'hello'])\n",
        "# code\n",
        "\n",
        "\n",
        "import numpy as np\n",
        "\n",
        "def count_substring(arr, substring):\n",
        "\n",
        "    return np.sum(np.char.find(arr, substring) >= 0)\n",
        "\n",
        "arr = np.array(['hello', 'world', 'hello', 'numpy', 'hello'])\n",
        "substring = 'hello'\n",
        "\n",
        "result = count_substring(arr, substring)\n",
        "\n",
        "print(\"Array: \", arr)\n",
        "print(\"Substring: \", substring)\n",
        "print(\"Number of occurrences: \", result)"
      ]
    },
    {
      "cell_type": "code",
      "execution_count": 73,
      "metadata": {
        "id": "ujHv_eSXoa3k",
        "colab": {
          "base_uri": "https://localhost:8080/"
        },
        "outputId": "5e0da7d8-819c-44e6-cc85-ca415958e2e7"
      },
      "outputs": [
        {
          "output_type": "stream",
          "name": "stdout",
          "text": [
            "Original array of strings:\n",
            "['Hello World' 'NumPy Arrays' 'OpenAI GPT-3' 'Data Science']\n",
            "\n",
            "Uppercase characters extracted:\n",
            "['H', 'W', 'N', 'P', 'A', 'O', 'A', 'I', 'G', 'P', 'T', 'D', 'S']\n"
          ]
        }
      ],
      "source": [
        "# 57. Write a function that extracts uppercase characters from a NumPy array of strings.\n",
        "# arr = np.array(['Hello', 'World', 'OpenAI', 'GPT'])\n",
        "# code\n",
        "\n",
        "import numpy as np\n",
        "\n",
        "def extract_uppercase_characters(arr):\n",
        "\n",
        "    uppercase_characters = []\n",
        "    for string in arr:\n",
        "        for char in string:\n",
        "            if char.isupper():\n",
        "                uppercase_characters.append(char)\n",
        "    return uppercase_characters\n",
        "\n",
        "string_array = np.array([\"Hello World\", \"NumPy Arrays\", \"OpenAI GPT-3\", \"Data Science\"])\n",
        "print(\"Original array of strings:\")\n",
        "print(string_array)\n",
        "\n",
        "uppercase_characters = extract_uppercase_characters(string_array)\n",
        "print(\"\\nUppercase characters extracted:\")\n",
        "print(uppercase_characters)"
      ]
    },
    {
      "cell_type": "code",
      "execution_count": 74,
      "metadata": {
        "id": "Iclf2ENoosIv",
        "colab": {
          "base_uri": "https://localhost:8080/"
        },
        "outputId": "956dc729-203a-4511-880a-b1545e58c58c"
      },
      "outputs": [
        {
          "output_type": "stream",
          "name": "stdout",
          "text": [
            "Array:  ['apple' 'banana' 'grape' 'pineapple']\n",
            "Replaced array:  ['orange' 'banana' 'grape' 'pineorange']\n"
          ]
        }
      ],
      "source": [
        "# 58. Write a function that replaces occurrences of a substring in a NumPy array of strings with a new string.\n",
        "# arr = np.array(['apple', 'banana', 'grape', 'pineapple'])\n",
        "# code\n",
        "\n",
        "\n",
        "import numpy as np\n",
        "\n",
        "def replace_substring(arr, old_substring, new_substring):\n",
        "\n",
        "    return np.char.replace(arr, old_substring, new_substring)\n",
        "\n",
        "arr = np.array(['apple', 'banana', 'grape', 'pineapple'])\n",
        "\n",
        "result = replace_substring(arr, 'apple', 'orange')\n",
        "\n",
        "print(\"Array: \", arr)\n",
        "print(\"Replaced array: \", result)"
      ]
    },
    {
      "cell_type": "code",
      "execution_count": 75,
      "metadata": {
        "id": "nfiS_dyXoybl",
        "colab": {
          "base_uri": "https://localhost:8080/"
        },
        "outputId": "d3068485-d750-4d2d-ca17-bc02607049c0"
      },
      "outputs": [
        {
          "output_type": "stream",
          "name": "stdout",
          "text": [
            "Array 1:  ['Hello' 'World']\n",
            "Array 2:  ['Open' 'AI']\n",
            "Concatenated array:  ['HelloOpen' 'WorldAI']\n"
          ]
        }
      ],
      "source": [
        "# 59. Write a function that concatenates strings in a NumPy array element-wise.\n",
        "# arr1 = np.array(['Hello', 'World'])\n",
        "# arr2 = np.array(['Open', 'AI'])\n",
        "# code\n",
        "\n",
        "\n",
        "import numpy as np\n",
        "\n",
        "def concatenate_strings(arr1, arr2):\n",
        "\n",
        "    return np.char.add(arr1, arr2)\n",
        "\n",
        "arr1 = np.array(['Hello', 'World'])\n",
        "arr2 = np.array(['Open', 'AI'])\n",
        "\n",
        "result = concatenate_strings(arr1, arr2)\n",
        "\n",
        "print(\"Array 1: \", arr1)\n",
        "print(\"Array 2: \", arr2)\n",
        "print(\"Concatenated array: \", result)"
      ]
    },
    {
      "cell_type": "code",
      "execution_count": 76,
      "metadata": {
        "id": "bjHAlJgLo3MU",
        "colab": {
          "base_uri": "https://localhost:8080/"
        },
        "outputId": "d7de6139-1a80-449a-ec77-3b62e6218438"
      },
      "outputs": [
        {
          "output_type": "stream",
          "name": "stdout",
          "text": [
            "Array:  ['apple' 'banana' 'grape' 'pineapple']\n",
            "Length of longest string:  9\n"
          ]
        }
      ],
      "source": [
        "# 60. Write a function that finds the length of the longest string in a NumPy array.\n",
        "# arr = np.array(['apple', 'banana', 'grape', 'pineapple'])\n",
        "# code\n",
        "\n",
        "\n",
        "import numpy as np\n",
        "\n",
        "def longest_string_length(arr):\n",
        "\n",
        "    return np.max(np.char.str_len(arr))\n",
        "\n",
        "arr = np.array(['apple', 'banana', 'grape', 'pineapple'])\n",
        "\n",
        "result = longest_string_length(arr)\n",
        "\n",
        "print(\"Array: \", arr)\n",
        "print(\"Length of longest string: \", result)"
      ]
    },
    {
      "cell_type": "code",
      "execution_count": 77,
      "metadata": {
        "id": "MH5KB4j8pDzW",
        "colab": {
          "base_uri": "https://localhost:8080/"
        },
        "outputId": "1afcf55e-7ed1-4546-8fbd-212851681335"
      },
      "outputs": [
        {
          "output_type": "stream",
          "name": "stdout",
          "text": [
            "Dataset:  [1058  642 1213  783  954 1058  615 1410  543 1256 1076  890 1079 1457\n",
            "  663  543  888  509  718  778  576 1008 1301  958  836 1409  803  657\n",
            " 1232  625  865 1113  881 1010 1312  896  807  541 1084 1289  627  961\n",
            " 1315  703  647  926 1176  764  810  789]\n",
            "Mean:  921.08\n",
            "Median:  889.0\n",
            "Variance:  67624.95360000001\n",
            "Standard Deviation:  260.04798326462753\n"
          ]
        }
      ],
      "source": [
        "\n",
        "# 61. Create a dataset of 100 random integers between 1 and 1000. Compute the mean, median, variance, and standard deviation of the dataset using NumPy's functions.\n",
        "\n",
        "# code\n",
        "\n",
        "\n",
        "import numpy as np\n",
        "\n",
        "dataset = np.random.randint(500, 1501, size=50)\n",
        "\n",
        "mean = np.mean(dataset)\n",
        "median = np.median(dataset)\n",
        "variance = np.var(dataset)\n",
        "std_deviation = np.std(dataset)\n",
        "\n",
        "print(\"Dataset: \", dataset)\n",
        "print(\"Mean: \", mean)\n",
        "print(\"Median: \", median)\n",
        "print(\"Variance: \", variance)\n",
        "print(\"Standard Deviation: \", std_deviation)"
      ]
    },
    {
      "cell_type": "code",
      "execution_count": 78,
      "metadata": {
        "id": "rYH7B_fCpcfN",
        "colab": {
          "base_uri": "https://localhost:8080/"
        },
        "outputId": "573ae00b-3173-40ed-a91c-067a6d9e3fd5"
      },
      "outputs": [
        {
          "output_type": "stream",
          "name": "stdout",
          "text": [
            "Dataset:  [240 849 230 187 380 760 345 407 628  76 516 208 375 319 430  12  35 317\n",
            " 956  76 649 274 891 834 195 564 490 119 729 281 215 188 100 361 395 789\n",
            " 574 474 818 981 994 664 909 333 125 405 461 522 225 625 830 114 124 887\n",
            " 650 334 660 879 331 545 520 420 710  29  85 598 227 819 200 743 168 846\n",
            "  15 299 367 524 993 574 109 550 735 640 535 388 791 803 477 528 651 996\n",
            " 523 822 472  86 749 881 162 211 142 549]\n",
            "25th percentile:  199.0\n",
            "75th percentile:  765.8000000000001\n"
          ]
        }
      ],
      "source": [
        "# 62. Generate an array of 50 random numbers between 1 and 100. Find the 25th and 75th percentiles of the dataset.\n",
        "\n",
        "# code\n",
        "\n",
        "\n",
        "import numpy as np\n",
        "\n",
        "dataset = np.random.randint(1, 1001, size=100)\n",
        "\n",
        "q1 = np.percentile(dataset, 20)\n",
        "q3 = np.percentile(dataset, 80)\n",
        "\n",
        "print(\"Dataset: \", dataset)\n",
        "print(\"25th percentile: \", q1)\n",
        "print(\"75th percentile: \", q3)"
      ]
    },
    {
      "cell_type": "code",
      "execution_count": 79,
      "metadata": {
        "id": "E31P7VN7qAQx",
        "colab": {
          "base_uri": "https://localhost:8080/"
        },
        "outputId": "c9cb1f31-dba1-4de0-f77a-06df7772486e"
      },
      "outputs": [
        {
          "output_type": "stream",
          "name": "stdout",
          "text": [
            "Array 1:  [ 3  6  9 12 15]\n",
            "Array 2:  [10 20 30 40 50]\n",
            "Correlation coefficient:  1.0\n"
          ]
        }
      ],
      "source": [
        "\n",
        "# 63. Create two arrays representing two sets of variables. Compute the correlation coefficient between these arrays using NumPy's corrcoef function.\n",
        "\n",
        "# code\n",
        "\n",
        "\n",
        "import numpy as np\n",
        "\n",
        "array1 = np.array([3, 6, 9, 12, 15])\n",
        "array2 = np.array([10, 20, 30, 40, 50])\n",
        "\n",
        "result = np.corrcoef(array1, array2)[0, 1]\n",
        "\n",
        "print(\"Array 1: \", array1)\n",
        "print(\"Array 2: \", array2)\n",
        "print(\"Correlation coefficient: \", result)"
      ]
    },
    {
      "cell_type": "code",
      "execution_count": 80,
      "metadata": {
        "id": "MeKO1_zxqUYf",
        "colab": {
          "base_uri": "https://localhost:8080/"
        },
        "outputId": "5ed0fa7f-9908-414b-ee40-e940d4bbcad2"
      },
      "outputs": [
        {
          "output_type": "stream",
          "name": "stdout",
          "text": [
            "Matrix 1:\n",
            "[[1 2 3]\n",
            " [4 5 6]\n",
            " [7 8 9]]\n",
            "\n",
            "Matrix 2:\n",
            "[[9 8 7]\n",
            " [6 5 4]\n",
            " [3 2 1]]\n",
            "\n",
            "Result:\n",
            "[[ 30  24  18]\n",
            " [ 84  69  54]\n",
            " [138 114  90]]\n"
          ]
        }
      ],
      "source": [
        "\n",
        "# 64. Create two matrices and perform matrix multiplication using NumPy's dot function.\n",
        "\n",
        "# code\n",
        "\n",
        "\n",
        "import numpy as np\n",
        "\n",
        "matrix1 = np.array([[1, 2, 3],\n",
        "                    [4, 5, 6],\n",
        "                    [7, 8, 9]])\n",
        "\n",
        "matrix2 = np.array([[9, 8, 7],\n",
        "                    [6, 5, 4],\n",
        "                    [3, 2, 1]])\n",
        "\n",
        "result = np.dot(matrix1, matrix2)\n",
        "\n",
        "print(\"Matrix 1:\")\n",
        "print(matrix1)\n",
        "print(\"\\nMatrix 2:\")\n",
        "print(matrix2)\n",
        "print(\"\\nResult:\")\n",
        "print(result)"
      ]
    },
    {
      "cell_type": "code",
      "execution_count": 81,
      "metadata": {
        "id": "mTWK2MTaqomi",
        "colab": {
          "base_uri": "https://localhost:8080/"
        },
        "outputId": "f364d957-59b2-49fe-ab38-0c2e921bb624"
      },
      "outputs": [
        {
          "output_type": "stream",
          "name": "stdout",
          "text": [
            "Array:\n",
            "[ 440 1135  613 1981 1687 1691  320 1814 1150  365 1072  587  496   91\n",
            "  313  875  794  914 1362 1336  776 1972  693  147  596  629 1395 1481\n",
            " 1260 1359 1856  786  346   69 1298 1326  122 1584  435 1100  339  399\n",
            " 1518  399 1352 1847 1742 1912  880  504  995  420  391 1095  903 1159\n",
            " 1875  459 1334  939  473 1991  545  697  689 1379  254  884 1372 1857\n",
            "  494 1660 1349  307 1385 1018  528 1797 1869  485 1393  503 1014  757\n",
            "  839 1403  848  978 1132  598 1269 1402 1630 1923  235  528 1504 1386\n",
            " 1532 1129]\n",
            "\n",
            "Percentiles:\n",
            "15th percentile:  416.84999999999997\n",
            "60th percentile:  1199.3999999999999\n",
            "85th percentile:  1664.0499999999997\n",
            "\n",
            "Quartiles:\n",
            "2nd quartile:  695.6\n",
            "4th quartile:  1365.0\n"
          ]
        }
      ],
      "source": [
        "# 65. Create an array of 50 integers between 10 and 1000. Calculate the 10th, 50th (median), and 90th percentiles along with the first and third quartiles.\n",
        "\n",
        "# code\n",
        "\n",
        "import numpy as np\n",
        "\n",
        "array = np.random.randint(50, 2001, size=100)\n",
        "\n",
        "p15 = np.percentile(array, 15)\n",
        "p60 = np.percentile(array, 60)\n",
        "p85 = np.percentile(array, 85)\n",
        "\n",
        "q2 = np.percentile(array, 35)\n",
        "q4 = np.percentile(array, 70)\n",
        "\n",
        "print(\"Array:\")\n",
        "print(array)\n",
        "print(\"\\nPercentiles:\")\n",
        "print(\"15th percentile: \", p15)\n",
        "print(\"60th percentile: \", p60)\n",
        "print(\"85th percentile: \", p85)\n",
        "print(\"\\nQuartiles:\")\n",
        "print(\"2nd quartile: \", q2)\n",
        "print(\"4th quartile: \", q4)\n",
        "\n"
      ]
    },
    {
      "cell_type": "code",
      "execution_count": 83,
      "metadata": {
        "id": "SqZ-xdDrrUZR",
        "colab": {
          "base_uri": "https://localhost:8080/"
        },
        "outputId": "1eb3d772-10c8-4e68-c7bc-c32dc1d620ef"
      },
      "outputs": [
        {
          "output_type": "stream",
          "name": "stdout",
          "text": [
            "Array:\n",
            "[ 1  2  3  4  5  6  7  8  9 10]\n",
            "\n",
            "Index of 7:  6\n"
          ]
        }
      ],
      "source": [
        "# 66. Create a NumPy array of integers and find the index of a specific element.\n",
        "\n",
        "# code\n",
        "\n",
        "import numpy as np\n",
        "\n",
        "array = np.array([1, 2, 3, 4, 5, 6, 7, 8, 9, 10])\n",
        "\n",
        "index = np.where(array == 7)[0][0]\n",
        "\n",
        "print(\"Array:\")\n",
        "print(array)\n",
        "print(\"\\nIndex of 7: \", index)"
      ]
    },
    {
      "cell_type": "code",
      "execution_count": 84,
      "metadata": {
        "id": "YHfYTUoXrtzv",
        "colab": {
          "base_uri": "https://localhost:8080/"
        },
        "outputId": "ded76dff-ba7a-40a2-cd2e-eac340ac5e9d"
      },
      "outputs": [
        {
          "output_type": "stream",
          "name": "stdout",
          "text": [
            "Original array:\n",
            "[0.67274736 0.34160521 0.2653293  0.58239536 0.94426663 0.24875943\n",
            " 0.32061993 0.02370621 0.49982291 0.9178291 ]\n",
            "\n",
            "Sorted array:\n",
            "[0.02370621 0.24875943 0.2653293  0.32061993 0.34160521 0.49982291\n",
            " 0.58239536 0.67274736 0.9178291  0.94426663]\n"
          ]
        }
      ],
      "source": [
        "\n",
        "# 67. Generate a random NumPy array and sort it in ascending order.\n",
        "\n",
        "# code\n",
        "\n",
        "\n",
        "import numpy as np\n",
        "\n",
        "array = np.random.rand(10)\n",
        "\n",
        "sorted_array = np.sort(array)\n",
        "\n",
        "print(\"Original array:\")\n",
        "print(array)\n",
        "print(\"\\nSorted array:\")\n",
        "print(sorted_array)"
      ]
    },
    {
      "cell_type": "code",
      "execution_count": 85,
      "metadata": {
        "id": "UnU2SzAwr6T9",
        "colab": {
          "base_uri": "https://localhost:8080/"
        },
        "outputId": "1e65d730-1ea8-4450-cce8-e6502bfd373a"
      },
      "outputs": [
        {
          "output_type": "stream",
          "name": "stdout",
          "text": [
            "Original array:\n",
            "[12 25  6 42  8 30]\n",
            "\n",
            "Filtered array:\n",
            "[25 42 30]\n"
          ]
        }
      ],
      "source": [
        "# 68. Filter elements >20 in the given NumPy array.\n",
        "# arr = np.array([12, 25, 6, 42, 8, 30])\n",
        "# code\n",
        "\n",
        "\n",
        "import numpy as np\n",
        "\n",
        "arr = np.array([12, 25, 6, 42, 8, 30])\n",
        "\n",
        "filtered_arr = arr[arr > 20]\n",
        "\n",
        "print(\"Original array:\")\n",
        "print(arr)\n",
        "print(\"\\nFiltered array:\")\n",
        "print(filtered_arr)"
      ]
    },
    {
      "cell_type": "code",
      "execution_count": 86,
      "metadata": {
        "id": "CLVJVsD8r-fZ",
        "colab": {
          "base_uri": "https://localhost:8080/"
        },
        "outputId": "e6c6bb3d-5759-4a4d-dff5-2217f0dbacc1"
      },
      "outputs": [
        {
          "output_type": "stream",
          "name": "stdout",
          "text": [
            "Original array:\n",
            "[ 1  5  8 12 15]\n",
            "\n",
            "Filtered array:\n",
            "[12 15]\n"
          ]
        }
      ],
      "source": [
        "\n",
        "# 69. Filter elements which are divisible by 3 from a given NumPy array.\n",
        "# arr = np.array([1, 5, 8, 12, 15])\n",
        "# code\n",
        "\n",
        "\n",
        "import numpy as np\n",
        "\n",
        "arr = np.array([1, 5, 8, 12, 15])\n",
        "\n",
        "filtered_arr = arr[arr % 3 == 0]\n",
        "print(\"Original array:\")\n",
        "print(arr)\n",
        "print(\"\\nFiltered array:\")\n",
        "print(filtered_arr)"
      ]
    },
    {
      "cell_type": "code",
      "execution_count": 87,
      "metadata": {
        "id": "brNQFnKEsDGU",
        "colab": {
          "base_uri": "https://localhost:8080/"
        },
        "outputId": "8edebede-9e71-4b06-cc47-21c9becfef8a"
      },
      "outputs": [
        {
          "output_type": "stream",
          "name": "stdout",
          "text": [
            "Original array:\n",
            "[10 20 30 40 50]\n",
            "\n",
            "Filtered array:\n",
            "[20 30 40]\n"
          ]
        }
      ],
      "source": [
        "# 70. Filter elements which are ≥ 20 and ≤ 40 from a given NumPy array.\n",
        "# arr = np.array([10, 20, 30, 40, 50])\n",
        "# code\n",
        "\n",
        "\n",
        "import numpy as np\n",
        "\n",
        "arr = np.array([10, 20, 30, 40, 50])\n",
        "filtered_arr = arr[(arr >= 20) & (arr <= 40)]\n",
        "\n",
        "print(\"Original array:\")\n",
        "print(arr)\n",
        "print(\"\\nFiltered array:\")\n",
        "print(filtered_arr)"
      ]
    },
    {
      "cell_type": "code",
      "execution_count": 88,
      "metadata": {
        "id": "J0mbt-4lsHU1",
        "colab": {
          "base_uri": "https://localhost:8080/"
        },
        "outputId": "36529b7f-89c8-4054-c7a8-0120e352a68e"
      },
      "outputs": [
        {
          "output_type": "stream",
          "name": "stdout",
          "text": [
            "Original array:\n",
            "[1 2 3]\n",
            "\n",
            "Byte order of the array:\n",
            "=\n",
            "Native byte order (depends on system endianness)\n"
          ]
        }
      ],
      "source": [
        "# 71. For the given NumPy array, check its byte order using the dtype attribute byteorder.\n",
        "# arr = np.array([1, 2, 3])\n",
        "\n",
        "# code\n",
        "\n",
        "import numpy as np\n",
        "arr = np.array([1, 2, 3])\n",
        "print(\"Original array:\")\n",
        "print(arr)\n",
        "\n",
        "byte_order = arr.dtype.byteorder\n",
        "print(\"\\nByte order of the array:\")\n",
        "print(byte_order)\n",
        "\n",
        "if byte_order == '<':\n",
        "    print(\"Little-endian\")\n",
        "elif byte_order == '>':\n",
        "    print(\"Big-endian\")\n",
        "else:\n",
        "    print(\"Native byte order (depends on system endianness)\")"
      ]
    },
    {
      "cell_type": "code",
      "execution_count": 89,
      "metadata": {
        "id": "eUV04u5usL8O",
        "colab": {
          "base_uri": "https://localhost:8080/"
        },
        "outputId": "61a6408f-a299-4578-cb21-c53703ac922f"
      },
      "outputs": [
        {
          "output_type": "stream",
          "name": "stdout",
          "text": [
            "Original array:\n",
            "[1 2 3]\n",
            "\n",
            "Array after byte swapping:\n",
            "[16777216 33554432 50331648]\n"
          ]
        }
      ],
      "source": [
        "# 72. For the given NumPy array, perform byte swapping in place using 'byteswap()`.\n",
        "# arr = np.array ([1, 2, 3], dtype=np.int32)\n",
        "\n",
        "# code\n",
        "import numpy as np\n",
        "\n",
        "arr = np.array([1, 2, 3], dtype=np.int32)\n",
        "print(\"Original array:\")\n",
        "print(arr)\n",
        "\n",
        "arr.byteswap(True)\n",
        "print(\"\\nArray after byte swapping:\")\n",
        "print(arr)"
      ]
    },
    {
      "cell_type": "code",
      "execution_count": 90,
      "metadata": {
        "id": "5M7KssNHsQFw",
        "colab": {
          "base_uri": "https://localhost:8080/"
        },
        "outputId": "d8e9ad8b-4fbf-4734-e6b2-68ce4ec00b6e"
      },
      "outputs": [
        {
          "output_type": "stream",
          "name": "stdout",
          "text": [
            "Original array:\n",
            "[1 2 3]\n",
            "\n",
            "Array after byte swapping (without modifying the original):\n",
            "[16777216 33554432 50331648]\n"
          ]
        }
      ],
      "source": [
        "\n",
        "# 73. For the given NumPy array, swap its byte order without modifying the original array using `newbyteorder()`.\n",
        "# arr = np.array ([1, 2, 3], dtype=np.int32)\n",
        "# code\n",
        "\n",
        "import numpy as np\n",
        "\n",
        "arr = np.array([1, 2, 3], dtype=np.int32)\n",
        "print(\"Original array:\")\n",
        "print(arr)\n",
        "\n",
        "swapped_array = arr.newbyteorder()\n",
        "print(\"\\nArray after byte swapping (without modifying the original):\")\n",
        "print(swapped_array)"
      ]
    },
    {
      "cell_type": "code",
      "execution_count": 91,
      "metadata": {
        "id": "QgQpXx12sUdN",
        "colab": {
          "base_uri": "https://localhost:8080/"
        },
        "outputId": "ae53afbf-85d2-4b39-f6e6-84ba04a679f8"
      },
      "outputs": [
        {
          "output_type": "stream",
          "name": "stdout",
          "text": [
            "Original array:\n",
            "[1 2 3]\n",
            "\n",
            "System is little-endian. Swapping byte order.\n",
            "\n",
            "Array after conditional byte swapping:\n",
            "[16777216 33554432 50331648]\n"
          ]
        }
      ],
      "source": [
        "# 74. For the given NumPy array and swap its byte order conditionally based on system endianness using `newbyteorder()`.\n",
        "# arr = np.array ([1, 2, 3], dtype=np.int32)\n",
        "\n",
        "# code\n",
        "import numpy as np\n",
        "\n",
        "arr = np.array([1, 2, 3], dtype=np.int32)\n",
        "print(\"Original array:\")\n",
        "print(arr)\n",
        "\n",
        "if arr.dtype.byteorder == '<' or (arr.dtype.byteorder == '=' and np.little_endian):\n",
        "    swapped_array = arr.newbyteorder()\n",
        "    print(\"\\nSystem is little-endian. Swapping byte order.\")\n",
        "else:\n",
        "    swapped_array = arr.copy()\n",
        "    print(\"\\nSystem is big-endian. No need to swap byte order.\")\n",
        "\n",
        "print(\"\\nArray after conditional byte swapping:\")\n",
        "print(swapped_array)"
      ]
    },
    {
      "cell_type": "code",
      "execution_count": 92,
      "metadata": {
        "id": "nLagLT3ZsZ-n",
        "colab": {
          "base_uri": "https://localhost:8080/"
        },
        "outputId": "34871994-fb1c-42de-e2ee-fc6c7e8879ad"
      },
      "outputs": [
        {
          "output_type": "stream",
          "name": "stdout",
          "text": [
            "Original array:\n",
            "[1 2 3]\n",
            "\n",
            "System is little-endian. Byte swapping is necessary.\n"
          ]
        }
      ],
      "source": [
        "# 75. For the given NumPy array, check if byte swapping is necessary for the current system using`dtype` attribute 'byteorder`.\n",
        "# arr = np.array ([1, 2, 3], dtype=np.int32)\n",
        "\n",
        "# code\n",
        "import numpy as np\n",
        "\n",
        "arr = np.array([1, 2, 3], dtype=np.int32)\n",
        "print(\"Original array:\")\n",
        "print(arr)\n",
        "\n",
        "if arr.dtype.byteorder == '<' or (arr.dtype.byteorder == '=' and np.little_endian):\n",
        "    print(\"\\nSystem is little-endian. Byte swapping is necessary.\")\n",
        "else:\n",
        "    print(\"\\nSystem is big-endian. Byte swapping is not necessary.\")"
      ]
    },
    {
      "cell_type": "code",
      "execution_count": 93,
      "metadata": {
        "id": "AEa4e3_Msl08",
        "colab": {
          "base_uri": "https://localhost:8080/"
        },
        "outputId": "58a87272-aefb-4742-9986-b21edd9aa02b"
      },
      "outputs": [
        {
          "output_type": "stream",
          "name": "stdout",
          "text": [
            "Original array arr1:\n",
            "[ 1  2  3  4  5  6  7  8  9 10]\n",
            "Modified array copy_arr:\n",
            "[ 1  2  3  4  5 50  7  8  9 10]\n",
            "Modifying copy_arr does not affect arr1.\n"
          ]
        }
      ],
      "source": [
        "#76. Create a NumPy array `arr1` with values from 1 to 10. Create a copy of `arr1` named `copy_arr` and modify an element in `copy_arr`. Check if modifying `copy_arr` affects `arr1`.\n",
        "\n",
        "# code\n",
        "\n",
        "\n",
        "import numpy as np\n",
        "\n",
        "arr1 = np.arange(1, 11)\n",
        "copy_arr = arr1.copy()\n",
        "\n",
        "copy_arr[5] = 50\n",
        "\n",
        "print(\"Original array arr1:\")\n",
        "print(arr1)\n",
        "\n",
        "print(\"Modified array copy_arr:\")\n",
        "print(copy_arr)\n",
        "\n",
        "if np.array_equal(arr1, copy_arr):\n",
        "    print(\"Modifying copy_arr affects arr1.\")\n",
        "else:\n",
        "    print(\"Modifying copy_arr does not affect arr1.\")"
      ]
    },
    {
      "cell_type": "code",
      "execution_count": 94,
      "metadata": {
        "id": "egruozxas6Ux",
        "colab": {
          "base_uri": "https://localhost:8080/"
        },
        "outputId": "16895889-6a9a-43c3-b978-644a6a789672"
      },
      "outputs": [
        {
          "output_type": "stream",
          "name": "stdout",
          "text": [
            "Original matrix:\n",
            "[[53 78 27]\n",
            " [46 54 66]\n",
            " [88 89  9]]\n",
            "\n",
            "Extracted slice (view_slice):\n",
            "[[9]]\n",
            "\n",
            "Modified slice (view_slice):\n",
            "[[999]]\n",
            "\n",
            "Matrix after modifying the slice:\n",
            "[[ 53  78  27]\n",
            " [ 46  54  66]\n",
            " [ 88  89 999]]\n"
          ]
        }
      ],
      "source": [
        "\n",
        "# 77. Create a 2D NumPy array `matrix` of shape (3, 3) with random integers. Extract a slice `view_slice` from  the matrix. Modify an element in `view_slice` and observe if it changes the original `matrix`.\n",
        "\n",
        "# code\n",
        "import numpy as np\n",
        "\n",
        "matrix = np.random.randint(1, 100, size=(3, 3))\n",
        "print(\"Original matrix:\")\n",
        "print(matrix)\n",
        "\n",
        "view_slice = matrix[2:, 2:]\n",
        "print(\"\\nExtracted slice (view_slice):\")\n",
        "print(view_slice)\n",
        "\n",
        "view_slice[0, 0] = 999\n",
        "print(\"\\nModified slice (view_slice):\")\n",
        "print(view_slice)\n",
        "\n",
        "print(\"\\nMatrix after modifying the slice:\")\n",
        "print(matrix)"
      ]
    },
    {
      "cell_type": "code",
      "execution_count": 95,
      "metadata": {
        "id": "vH2wloE_tJLl",
        "colab": {
          "base_uri": "https://localhost:8080/"
        },
        "outputId": "90e7a3f6-cd16-4f97-fb31-b2fe8681bdd4"
      },
      "outputs": [
        {
          "output_type": "stream",
          "name": "stdout",
          "text": [
            "Original array (array_a):\n",
            "[[ 1  2  3]\n",
            " [ 4  5  6]\n",
            " [ 7  8  9]\n",
            " [10 11 12]]\n",
            "\n",
            "Extracted slice (view_b):\n",
            "[[4 5 6]\n",
            " [7 8 9]]\n",
            "\n",
            "Modified slice (view_b) after broadcasting addition of 5:\n",
            "[[ 9 10 11]\n",
            " [12 13 14]]\n",
            "\n",
            "Original array (array_a) after modifying the slice:\n",
            "[[ 1  2  3]\n",
            " [ 9 10 11]\n",
            " [12 13 14]\n",
            " [10 11 12]]\n"
          ]
        }
      ],
      "source": [
        "\n",
        "# 78. Create a NumPy array array_a of shape (4, 3) with sequential integers from 1 to 12. Extract a slice view_b from array_a and broadcast the addition of 5 to view_b. Check if it alters the original array_a.\n",
        "\n",
        "# code\n",
        "import numpy as np\n",
        "\n",
        "array_a = np.arange(1, 13).reshape(4, 3)\n",
        "print(\"Original array (array_a):\")\n",
        "print(array_a)\n",
        "\n",
        "view_b = array_a[1:3, :]\n",
        "print(\"\\nExtracted slice (view_b):\")\n",
        "print(view_b)\n",
        "\n",
        "view_b += 5\n",
        "print(\"\\nModified slice (view_b) after broadcasting addition of 5:\")\n",
        "print(view_b)\n",
        "\n",
        "print(\"\\nOriginal array (array_a) after modifying the slice:\")\n",
        "print(array_a)"
      ]
    },
    {
      "cell_type": "code",
      "execution_count": 96,
      "metadata": {
        "id": "x-4IeAzptRZT",
        "colab": {
          "base_uri": "https://localhost:8080/"
        },
        "outputId": "c4a1d00a-8f2f-467f-843f-10d1a49c86f7"
      },
      "outputs": [
        {
          "output_type": "stream",
          "name": "stdout",
          "text": [
            "Original array (orig_array):\n",
            "[[1 2 3 4]\n",
            " [5 6 7 8]]\n",
            "\n",
            "Reshaped view (reshaped_view):\n",
            "[[1 2]\n",
            " [3 4]\n",
            " [5 6]\n",
            " [7 8]]\n",
            "\n",
            "Modified view (reshaped_view):\n",
            "[[999   2]\n",
            " [  3   4]\n",
            " [  5   6]\n",
            " [  7   8]]\n",
            "\n",
            "Original array after modifying the view:\n",
            "[[999   2   3   4]\n",
            " [  5   6   7   8]]\n"
          ]
        }
      ],
      "source": [
        "# 79. Create a NumPy array `orig_array` of shape (2, 4) with values from 1 to 8. Create a reshaped view `reshaped_view` of shape (4, 2) from orig_array. Modify an element in `reshaped_view` and check if it reflects changes in the original `orig_array`.\n",
        "\n",
        "# code\n",
        "\n",
        "import numpy as np\n",
        "\n",
        "orig_array = np.arange(1, 9).reshape(2, 4)\n",
        "print(\"Original array (orig_array):\")\n",
        "print(orig_array)\n",
        "\n",
        "reshaped_view = orig_array.reshape(4, 2)\n",
        "print(\"\\nReshaped view (reshaped_view):\")\n",
        "print(reshaped_view)\n",
        "\n",
        "reshaped_view[0, 0] = 999\n",
        "print(\"\\nModified view (reshaped_view):\")\n",
        "print(reshaped_view)\n",
        "\n",
        "print(\"\\nOriginal array after modifying the view:\")\n",
        "print(orig_array)"
      ]
    },
    {
      "cell_type": "code",
      "execution_count": 97,
      "metadata": {
        "id": "tfNxg32htWHD",
        "colab": {
          "base_uri": "https://localhost:8080/"
        },
        "outputId": "9fb65f8e-3c45-4963-c253-d42148a8d994"
      },
      "outputs": [
        {
          "output_type": "stream",
          "name": "stdout",
          "text": [
            "Original array (data):\n",
            "[[3 2 2 4]\n",
            " [4 4 4 1]\n",
            " [6 7 8 3]]\n",
            "\n",
            "Copy of elements greater than 5 (data_copy):\n",
            "[6 7 8]\n",
            "\n",
            "Modified copy (data_copy):\n",
            "[999   7   8]\n",
            "\n",
            "Original array (data) after modifying the copy:\n",
            "[[3 2 2 4]\n",
            " [4 4 4 1]\n",
            " [6 7 8 3]]\n"
          ]
        }
      ],
      "source": [
        "\n",
        "# 80. Create a NumPy array data of shape (3, 4) with random integers. Extract a copy data_copy of elements greater than 5. Modify an element in data_copy and verify if it affects the original data.\n",
        "\n",
        "# code\n",
        "import numpy as np\n",
        "\n",
        "data = np.random.randint(1, 10, size=(3, 4))\n",
        "print(\"Original array (data):\")\n",
        "print(data)\n",
        "\n",
        "data_copy = data[data > 5].copy()\n",
        "print(\"\\nCopy of elements greater than 5 (data_copy):\")\n",
        "print(data_copy)\n",
        "\n",
        "data_copy[0] = 999\n",
        "print(\"\\nModified copy (data_copy):\")\n",
        "print(data_copy)\n",
        "\n",
        "print(\"\\nOriginal array (data) after modifying the copy:\")\n",
        "print(data)"
      ]
    },
    {
      "cell_type": "code",
      "execution_count": 98,
      "metadata": {
        "id": "TkXnY3j5taIa",
        "colab": {
          "base_uri": "https://localhost:8080/"
        },
        "outputId": "61aeac23-dc7b-4531-cc52-ce698fec85be"
      },
      "outputs": [
        {
          "output_type": "stream",
          "name": "stdout",
          "text": [
            "Matrix A:\n",
            "[[1 2 3]\n",
            " [4 5 6]\n",
            " [7 8 9]]\n",
            "Matrix B:\n",
            "[[9 8 7]\n",
            " [6 5 4]\n",
            " [3 2 1]]\n",
            "Matrix C_add (A + B):\n",
            "[[10 10 10]\n",
            " [10 10 10]\n",
            " [10 10 10]]\n",
            "Matrix C_sub (A - B):\n",
            "[[-8 -6 -4]\n",
            " [-2  0  2]\n",
            " [ 4  6  8]]\n"
          ]
        }
      ],
      "source": [
        "# 81. Create two matrices A and B of identical shape containing integers and perform addition and subtraction operations between them.\n",
        "\n",
        "# code\n",
        "\n",
        "\n",
        "import numpy as np\n",
        "A = np.array([[1, 2, 3],\n",
        "              [4, 5, 6],\n",
        "              [7, 8, 9]])\n",
        "\n",
        "B = np.array([[9, 8, 7],\n",
        "              [6, 5, 4],\n",
        "              [3, 2, 1]])\n",
        "print(\"Matrix A:\")\n",
        "print(A)\n",
        "\n",
        "print(\"Matrix B:\")\n",
        "print(B)\n",
        "\n",
        "C_add = A + B\n",
        "C_sub = A - B\n",
        "\n",
        "print(\"Matrix C_add (A + B):\")\n",
        "print(C_add)\n",
        "\n",
        "print(\"Matrix C_sub (A - B):\")\n",
        "print(C_sub)"
      ]
    },
    {
      "cell_type": "code",
      "execution_count": 99,
      "metadata": {
        "id": "q9ElY2c5tsT7",
        "colab": {
          "base_uri": "https://localhost:8080/"
        },
        "outputId": "58a0b147-6f7f-4764-a369-40a864087751"
      },
      "outputs": [
        {
          "output_type": "stream",
          "name": "stdout",
          "text": [
            "Matrix C:\n",
            " [[7 4]\n",
            " [7 8]\n",
            " [9 9]]\n",
            "Matrix D:\n",
            " [[9 7 3 6]\n",
            " [9 8 9 4]]\n",
            "Matrix multiplication result:\n",
            " [[ 99  81  57  58]\n",
            " [135 113  93  74]\n",
            " [162 135 108  90]]\n"
          ]
        }
      ],
      "source": [
        "\n",
        "# 82. Generate two matrices `C` (3x2) and `D` (2x4) and perform matrix multiplication.\n",
        "\n",
        "# code\n",
        "\n",
        "import numpy as np\n",
        "\n",
        "import numpy as np\n",
        "\n",
        "C = np.random.randint(1, 10, size=(3, 2))\n",
        "\n",
        "D = np.random.randint(1, 10, size=(2, 4))\n",
        "\n",
        "\n",
        "multiplication_result = np.dot(C, D)\n",
        "\n",
        "print(\"Matrix C:\\n\", C)\n",
        "print(\"Matrix D:\\n\", D)\n",
        "print(\"Matrix multiplication result:\\n\", multiplication_result)\n"
      ]
    },
    {
      "cell_type": "code",
      "execution_count": 100,
      "metadata": {
        "id": "k9Yf1GnUuh5G",
        "colab": {
          "base_uri": "https://localhost:8080/"
        },
        "outputId": "c5caae5a-ca76-4dd0-a079-f0e4af655ed5"
      },
      "outputs": [
        {
          "output_type": "stream",
          "name": "stdout",
          "text": [
            "Matrix E:\n",
            " [[1 2 3]\n",
            " [4 5 6]]\n",
            "\n",
            "Transpose of matrix E:\n",
            " [[1 4]\n",
            " [2 5]\n",
            " [3 6]]\n"
          ]
        }
      ],
      "source": [
        "\n",
        "# 83. Create a matrix E and find its transpose.\n",
        "\n",
        "# code\n",
        "\n",
        "import numpy as np\n",
        "\n",
        "E = np.array([[1, 2, 3],\n",
        "              [4, 5, 6]])\n",
        "\n",
        "E_transpose = np.transpose(E)\n",
        "\n",
        "print(\"Matrix E:\\n\", E)\n",
        "print(\"\\nTranspose of matrix E:\\n\", E_transpose)\n"
      ]
    },
    {
      "cell_type": "code",
      "execution_count": 101,
      "metadata": {
        "id": "LKFhcyZYuyJD",
        "colab": {
          "base_uri": "https://localhost:8080/"
        },
        "outputId": "d8194311-03b7-42dc-f24a-068d9c492776"
      },
      "outputs": [
        {
          "output_type": "stream",
          "name": "stdout",
          "text": [
            "Matrix F:\n",
            "[[2 9 3]\n",
            " [6 7 1]\n",
            " [3 4 1]]\n",
            "\n",
            "Determinant of matrix F:\n",
            "-12.0\n"
          ]
        }
      ],
      "source": [
        "# 84. Generate a square matrix `F` and compute its determinant\n",
        "\n",
        "# code\n",
        "\n",
        "import numpy as np\n",
        "\n",
        "F = np.random.randint(1, 10, size=(3,3))\n",
        "print(\"Matrix F:\")\n",
        "print(F)\n",
        "\n",
        "determinant = np.linalg.det(F)\n",
        "\n",
        "print(\"\\nDeterminant of matrix F:\")\n",
        "print(determinant)"
      ]
    },
    {
      "cell_type": "code",
      "execution_count": 102,
      "metadata": {
        "id": "eyWIf28evLjt",
        "colab": {
          "base_uri": "https://localhost:8080/"
        },
        "outputId": "0daa8c8c-4cb8-48c5-aaf9-36c4ff369260"
      },
      "outputs": [
        {
          "output_type": "stream",
          "name": "stdout",
          "text": [
            "Matrix G:\n",
            "[[6 2 6 2]\n",
            " [3 3 5 1]\n",
            " [8 7 2 5]\n",
            " [8 4 6 7]]\n",
            "\n",
            "Inverse of matrix G:\n",
            "[[ 0.35810811 -0.31081081  0.10810811 -0.13513514]\n",
            " [-0.21621622  0.28828829  0.11711712 -0.06306306]\n",
            " [-0.03378378  0.21171171 -0.11711712  0.06306306]\n",
            " [-0.25675676  0.00900901 -0.09009009  0.27927928]]\n"
          ]
        }
      ],
      "source": [
        "# 85. Create a square matrix `G` and find its inverse.\n",
        "\n",
        "# code\n",
        "\n",
        "import numpy as np\n",
        "\n",
        "G = np.random.randint(1, 10, size=(4,4))\n",
        "print(\"Matrix G:\")\n",
        "print(G)\n",
        "\n",
        "inverse_G = np.linalg.inv(G)\n",
        "\n",
        "print(\"\\nInverse of matrix G:\")\n",
        "print(inverse_G)"
      ]
    }
  ],
  "metadata": {
    "colab": {
      "provenance": [],
      "authorship_tag": "ABX9TyMT8CYMQSrJwtNLu4gb89Vd",
      "include_colab_link": true
    },
    "kernelspec": {
      "display_name": "Python 3",
      "name": "python3"
    },
    "language_info": {
      "name": "python"
    }
  },
  "nbformat": 4,
  "nbformat_minor": 0
}